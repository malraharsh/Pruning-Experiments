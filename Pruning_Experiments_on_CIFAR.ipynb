{
  "nbformat": 4,
  "nbformat_minor": 0,
  "metadata": {
    "accelerator": "GPU",
    "colab": {
      "name": "Pruning Experiments-on-CIFAR",
      "provenance": [],
      "collapsed_sections": [],
      "include_colab_link": true
    },
    "kernelspec": {
      "display_name": "Python 3",
      "name": "python3"
    }
  },
  "cells": [
    {
      "cell_type": "markdown",
      "metadata": {
        "id": "view-in-github",
        "colab_type": "text"
      },
      "source": [
        "<a href=\"https://colab.research.google.com/github/malraharsh/Pruning-Experiments/blob/master/Pruning_Experiments_on_CIFAR.ipynb\" target=\"_parent\"><img src=\"https://colab.research.google.com/assets/colab-badge.svg\" alt=\"Open In Colab\"/></a>"
      ]
    },
    {
      "cell_type": "code",
      "metadata": {
        "colab_type": "code",
        "id": "yJwIonXEVJo6",
        "colab": {}
      },
      "source": [
        "! pip install -q tensorflow-model-optimization\n",
        "\n",
        "import tempfile\n",
        "import os\n",
        "\n",
        "import tensorflow as tf\n",
        "import numpy as np\n",
        "\n",
        "from sklearn.model_selection import train_test_split\n",
        "import pandas as pd\n",
        "\n",
        "\n",
        "from tensorflow.keras import datasets, layers, models\n",
        "import matplotlib.pyplot as plt\n",
        "\n",
        "from tensorflow import keras\n",
        "\n",
        "# %load_ext tensorboard\n",
        "\n",
        "os.mkdir('log')\n",
        "\n",
        "import tensorflow_model_optimization as tfmot\n",
        "\n",
        "\n",
        "from IPython.display import display\n",
        "\n",
        "prune_low_magnitude = tfmot.sparsity.keras.prune_low_magnitude\n",
        "\n",
        "SHOW = False"
      ],
      "execution_count": null,
      "outputs": []
    },
    {
      "cell_type": "code",
      "metadata": {
        "colab_type": "code",
        "id": "pbY-KGMPvbW9",
        "colab": {}
      },
      "source": [
        "data = datasets.cifar10.load_data()\n",
        "\n",
        "(Train_images, Train_labels), (Test_images, Test_labels) = data\n",
        "\n",
        "# pct_data = 0.1\n",
        "# top = int(np.ceil(Train_images.shape[0] * pct_data))\n",
        "\n",
        "# (train_images, train_labels), (test_images, test_labels) = (Train_images[:top], Train_labels[:top]), (Test_images[:top], Test_labels[:top])\n",
        "# print(top)\n",
        "\n",
        "class_names = ['airplane', 'automobile', 'bird', 'cat', 'deer',\n",
        "               'dog', 'frog', 'horse', 'ship', 'truck']"
      ],
      "execution_count": null,
      "outputs": []
    },
    {
      "cell_type": "code",
      "metadata": {
        "id": "Wsf6QDBAAIa2",
        "colab_type": "code",
        "colab": {}
      },
      "source": [
        "train_images = train_labels = test_images = test_labels = None\n",
        "\n",
        "def change_pct_data(pct_data):    \n",
        "    global train_images, train_labels, test_images, test_labels    \n",
        "    top = int(np.ceil(Train_images.shape[0] * pct_data))\n",
        "    (train_images, train_labels), (test_images, test_labels) = (Train_images[:top], Train_labels[:top]), (Test_images[:top], Test_labels[:top])\n",
        "    print(f\"No of data - {top}\")"
      ],
      "execution_count": 8,
      "outputs": []
    },
    {
      "cell_type": "code",
      "metadata": {
        "id": "lB25l8eRC6oH",
        "colab_type": "code",
        "colab": {}
      },
      "source": [
        "def train(train_images, train_labels, test_images, test_labels):\n",
        "\n",
        "    # Normalize the input image so that each pixel value is between 0 to 1.\n",
        "    train_images = train_images.copy() / 255.0 #!!!!! CAN REOMVE COPY\n",
        "    test_images = test_images.copy() / 255.0\n",
        "\n",
        "    # Define the model architecture.\n",
        "    model = models.Sequential()\n",
        "    model.add(layers.Conv2D(32, (3, 3), activation='relu', input_shape=(32, 32, 3)))\n",
        "    model.add(layers.MaxPooling2D((2, 2)))\n",
        "    model.add(layers.Conv2D(64, (3, 3), activation='relu'))\n",
        "    model.add(layers.MaxPooling2D((2, 2)))\n",
        "    model.add(layers.Conv2D(64, (3, 3), activation='relu'))\n",
        "    model.add(layers.Flatten())\n",
        "    model.add(layers.Dense(64, activation='relu'))\n",
        "    model.add(layers.Dense(10))\n",
        "\n",
        "    model.compile(optimizer='adam',\n",
        "              loss=tf.keras.losses.SparseCategoricalCrossentropy(from_logits=True),\n",
        "              metrics=['accuracy'])\n",
        "\n",
        "    history = model.fit(train_images, train_labels, epochs=EPOCHS, \n",
        "                        validation_data=(test_images, test_labels), verbose=VERBOSE)\n",
        "\n",
        "    #no test, only val data\n",
        "    # test_loss, test_accuracy = model.evaluate(test_images, test_labels, verbose=0)\n",
        "    # history.history['test_loss'] = [test_loss]\n",
        "    # history.history['test_accuracy'] = [test_accuracy]\n",
        "\n",
        "    if SHOW:\n",
        "\n",
        "        plt.plot(history.history['accuracy'], label='accuracy')\n",
        "        plt.plot(history.history['val_accuracy'], label = 'val_accuracy')\n",
        "        plt.xlabel('Epoch')\n",
        "        plt.ylabel('Accuracy')\n",
        "        plt.ylim([0.5, 1])\n",
        "        plt.legend(loc='lower right')\n",
        "\n",
        "        # test_loss, test_acc = model.evaluate(test_images,  test_labels, verbose=2)\n",
        "\n",
        "    \n",
        "    return model, history.history\n",
        "    \n",
        "\n",
        "def prune(train_images, train_labels, model):\n",
        "\n",
        "    # Compute end step to finish pruning after 2 epochs.\n",
        "    batch_size = 128\n",
        "    epochs = EPOCHS_PRUNE\n",
        "    validation_split = 0.1 # 10% of training set will be used for validation set. \n",
        "\n",
        "    num_images = train_images.shape[0] * (1 - validation_split)\n",
        "    end_step = np.ceil(num_images / batch_size).astype(np.int32) * epochs\n",
        "\n",
        "    # Define model for pruning.\n",
        "    pruning_params = {\n",
        "          'pruning_schedule': tfmot.sparsity.keras.PolynomialDecay(initial_sparsity=0.50,\n",
        "                                                                   final_sparsity=0.80,\n",
        "                                                                   begin_step=0,\n",
        "                                                                   end_step=end_step)\n",
        "    }\n",
        "\n",
        "    model_for_pruning = prune_low_magnitude(model, **pruning_params)\n",
        "\n",
        "    # `prune_low_magnitude` requires a recompile.\n",
        "    model_for_pruning.compile(optimizer='adam',\n",
        "                  loss=tf.keras.losses.SparseCategoricalCrossentropy(from_logits=True),\n",
        "                  metrics=['accuracy'])\n",
        "\n",
        "    # model_for_pruning.summary()\n",
        "\n",
        "    callbacks = [\n",
        "      tfmot.sparsity.keras.UpdatePruningStep(),\n",
        "    #   tfmot.sparsity.keras.PruningSummaries(log_dir=logdir),\n",
        "    ]\n",
        "\n",
        "    history = model_for_pruning.fit(train_images, train_labels,\n",
        "                      batch_size=batch_size, epochs=epochs, validation_data=(test_images, test_labels),\n",
        "                      callbacks=callbacks, verbose=VERBOSE)\n",
        "    \n",
        "    # test_loss, test_accuracy = model_for_pruning.evaluate(test_images, test_labels, verbose=0)\n",
        "    # history.history['test_loss'] = [test_loss]\n",
        "    # history.history['test_accuracy'] = [test_accuracy]\n",
        "\n",
        "    if SHOW:\n",
        "        print('Pruned test accuracy:', test_accuracy)\n",
        "\n",
        "    return model_for_pruning, history.history"
      ],
      "execution_count": null,
      "outputs": []
    },
    {
      "cell_type": "code",
      "metadata": {
        "id": "AIyrGM-rBkkn",
        "colab_type": "code",
        "colab": {}
      },
      "source": [
        "def do_train(test_pct):\n",
        "    train_x, val_x, train_y, val_y = train_test_split(train_images, train_labels, test_size=test_pct, stratify=train_labels)\n",
        "    \n",
        "    print(\"TRAINING ---\")\n",
        "    model, info_train = train(train_x, train_y, val_x, val_y)\n",
        "    \n",
        "    print(\"PRUNING ---\")\n",
        "    _, info_prune = prune(train_x, train_y, model)\n",
        "    \n",
        "    return info_train, info_prune"
      ],
      "execution_count": null,
      "outputs": []
    },
    {
      "cell_type": "code",
      "metadata": {
        "id": "6RtTs_t9Bkfd",
        "colab_type": "code",
        "colab": {}
      },
      "source": [
        "def add_info(dic, pct_train, info):\n",
        "    # print(list(dic.items()), '----')\n",
        "    dic = {k:v[-1] for k, v in dic.items()}\n",
        "    dic['percentage'] = pct_train\n",
        "    return info.append(dic, ignore_index=True)   \n",
        "\n",
        "def save(df, name, pct_data):\n",
        "    df.to_csv(f'log/info-{name}-{pct_data*100}%.csv')\n",
        "\n",
        "\n",
        "# def savefile():\n",
        "#     df_info_train = add_info(info_train, 1 - pct_test, df_info_train)\n",
        "#     df_info_prune = add_info(info_prune, 1 - pct_test, df_info_prune)\n",
        "\n",
        "#     save(df_info_train, 'train', pct_data)\n",
        "#     save(df_info_prune, 'prune', pct_data)\n",
        "\n",
        "\n",
        "def full_pct_data(pct_data, pct_test=0.2): #pct of full data\n",
        "    change_pct_data(pct_data) \n",
        "    df_info_train = pd.DataFrame()\n",
        "    df_info_prune = pd.DataFrame()\n",
        "\n",
        "    print(f'\\n Percentage of Whole data {pct_data*100}% Test data {pct_test*100}% \\n')\n",
        "\n",
        "    info_train, info_prune = do_train(pct_test)\n",
        "    \n",
        "    df_info_train = add_info(info_train, 1 - pct_test, df_info_train)\n",
        "    df_info_prune = add_info(info_prune, 1 - pct_test, df_info_prune)\n",
        "\n",
        "    # save(df_info_train, 'train', pct_data)\n",
        "    # save(df_info_prune, 'prune', pct_data)\n",
        "\n",
        "    # df_info.plot.scatter(x='percentage', y='accuracy')\n",
        "    return df_info_train, df_info_prune    "
      ],
      "execution_count": null,
      "outputs": []
    },
    {
      "cell_type": "code",
      "metadata": {
        "id": "rm-3NVYrdG2J",
        "colab_type": "code",
        "colab": {}
      },
      "source": [
        "def on_pct_data(p, ptest):\n",
        "    global x, y, dft, dfp\n",
        "    x, y = full_pct_data(p, ptest)\n",
        "    x['epochs'] = EPOCHS\n",
        "    x['pct_data'] = p\n",
        "    x['pct_test'] = ptest\n",
        "\n",
        "    y['epochs'] = EPOCHS_PRUNE\n",
        "    y['pct_data'] = p\n",
        "    y['pct_test'] = ptest\n",
        "\n",
        "    dft = dft.append(x, ignore_index=True, verify_integrity=True) #trained\n",
        "    dfp = dfp.append(y, ignore_index=True, verify_integrity=True)\n",
        "\n",
        "    print()\n",
        "    display('Trained', x)\n",
        "    display('Pruned', y)\n",
        "    print()\n",
        "    print('Training Acc. Diff', (x.accuracy[0] - x.val_accuracy[0])*100)\n",
        "    print('Pruned Acc. Diff', (y.accuracy[0] - y.val_accuracy[0])*100)\n",
        "    # display('Difference', x - y)"
      ],
      "execution_count": 74,
      "outputs": []
    },
    {
      "cell_type": "code",
      "metadata": {
        "id": "XXHeW4BykROX",
        "colab_type": "code",
        "colab": {}
      },
      "source": [
        "EPOCHS = 10\n",
        "EPOCHS_PRUNE = 3\n",
        "VERBOSE = 1\n",
        "SHOW = 0"
      ],
      "execution_count": 53,
      "outputs": []
    },
    {
      "cell_type": "code",
      "metadata": {
        "id": "z0u8AEWEEDz0",
        "colab_type": "code",
        "colab": {}
      },
      "source": [
        "dft = pd.DataFrame()\n",
        "dfp = pd.DataFrame()"
      ],
      "execution_count": 75,
      "outputs": []
    },
    {
      "cell_type": "code",
      "metadata": {
        "id": "fn-sWTORkYH1",
        "colab_type": "code",
        "colab": {
          "base_uri": "https://localhost:8080/",
          "height": 864
        },
        "outputId": "44666ec7-76ba-45f2-fb0b-dc196f6bebbf"
      },
      "source": [
        "on_pct_data(0.1, 0.5)"
      ],
      "execution_count": 76,
      "outputs": [
        {
          "output_type": "stream",
          "text": [
            "No of data - 5000\n",
            "\n",
            " Percentage of Whole data 10.0% Test data 50.0% \n",
            "\n",
            "TRAINING ---\n",
            "Epoch 1/10\n",
            "79/79 [==============================] - 1s 6ms/step - loss: 2.1664 - accuracy: 0.1964 - val_loss: 1.9342 - val_accuracy: 0.2908\n",
            "Epoch 2/10\n",
            "79/79 [==============================] - 0s 5ms/step - loss: 1.8998 - accuracy: 0.2912 - val_loss: 1.8541 - val_accuracy: 0.3112\n",
            "Epoch 3/10\n",
            "79/79 [==============================] - 0s 5ms/step - loss: 1.7387 - accuracy: 0.3488 - val_loss: 1.7014 - val_accuracy: 0.4000\n",
            "Epoch 4/10\n",
            "79/79 [==============================] - 0s 5ms/step - loss: 1.6077 - accuracy: 0.4220 - val_loss: 1.5792 - val_accuracy: 0.4028\n",
            "Epoch 5/10\n",
            "79/79 [==============================] - 0s 5ms/step - loss: 1.5302 - accuracy: 0.4476 - val_loss: 1.5724 - val_accuracy: 0.4216\n",
            "Epoch 6/10\n",
            "79/79 [==============================] - 0s 5ms/step - loss: 1.4292 - accuracy: 0.4772 - val_loss: 1.4851 - val_accuracy: 0.4536\n",
            "Epoch 7/10\n",
            "79/79 [==============================] - 0s 5ms/step - loss: 1.3672 - accuracy: 0.5060 - val_loss: 1.5059 - val_accuracy: 0.4524\n",
            "Epoch 8/10\n",
            "79/79 [==============================] - 0s 5ms/step - loss: 1.3037 - accuracy: 0.5300 - val_loss: 1.4838 - val_accuracy: 0.4764\n",
            "Epoch 9/10\n",
            "79/79 [==============================] - 0s 5ms/step - loss: 1.2463 - accuracy: 0.5516 - val_loss: 1.4333 - val_accuracy: 0.4876\n",
            "Epoch 10/10\n",
            "79/79 [==============================] - 0s 5ms/step - loss: 1.1488 - accuracy: 0.5880 - val_loss: 1.3986 - val_accuracy: 0.4948\n",
            "PRUNING ---\n",
            "Epoch 1/3\n",
            "20/20 [==============================] - 0s 24ms/step - loss: 86.3120 - accuracy: 0.5200 - val_loss: 57.4448 - val_accuracy: 0.4366\n",
            "Epoch 2/3\n",
            "20/20 [==============================] - 0s 15ms/step - loss: 23.8129 - accuracy: 0.5816 - val_loss: 32.2364 - val_accuracy: 0.4370\n",
            "Epoch 3/3\n",
            "20/20 [==============================] - 0s 16ms/step - loss: 12.9453 - accuracy: 0.5852 - val_loss: 19.8851 - val_accuracy: 0.4112\n",
            "\n"
          ],
          "name": "stdout"
        },
        {
          "output_type": "display_data",
          "data": {
            "application/vnd.google.colaboratory.intrinsic": {
              "type": "string"
            },
            "text/plain": [
              "'Trained'"
            ]
          },
          "metadata": {
            "tags": []
          }
        },
        {
          "output_type": "display_data",
          "data": {
            "text/html": [
              "<div>\n",
              "<style scoped>\n",
              "    .dataframe tbody tr th:only-of-type {\n",
              "        vertical-align: middle;\n",
              "    }\n",
              "\n",
              "    .dataframe tbody tr th {\n",
              "        vertical-align: top;\n",
              "    }\n",
              "\n",
              "    .dataframe thead th {\n",
              "        text-align: right;\n",
              "    }\n",
              "</style>\n",
              "<table border=\"1\" class=\"dataframe\">\n",
              "  <thead>\n",
              "    <tr style=\"text-align: right;\">\n",
              "      <th></th>\n",
              "      <th>accuracy</th>\n",
              "      <th>loss</th>\n",
              "      <th>percentage</th>\n",
              "      <th>val_accuracy</th>\n",
              "      <th>val_loss</th>\n",
              "      <th>epochs</th>\n",
              "      <th>pct_data</th>\n",
              "      <th>pct_test</th>\n",
              "    </tr>\n",
              "  </thead>\n",
              "  <tbody>\n",
              "    <tr>\n",
              "      <th>0</th>\n",
              "      <td>0.588</td>\n",
              "      <td>1.148828</td>\n",
              "      <td>0.5</td>\n",
              "      <td>0.4948</td>\n",
              "      <td>1.398556</td>\n",
              "      <td>10</td>\n",
              "      <td>0.1</td>\n",
              "      <td>0.5</td>\n",
              "    </tr>\n",
              "  </tbody>\n",
              "</table>\n",
              "</div>"
            ],
            "text/plain": [
              "   accuracy      loss  percentage  ...  epochs  pct_data  pct_test\n",
              "0     0.588  1.148828         0.5  ...      10       0.1       0.5\n",
              "\n",
              "[1 rows x 8 columns]"
            ]
          },
          "metadata": {
            "tags": []
          }
        },
        {
          "output_type": "display_data",
          "data": {
            "application/vnd.google.colaboratory.intrinsic": {
              "type": "string"
            },
            "text/plain": [
              "'Pruned'"
            ]
          },
          "metadata": {
            "tags": []
          }
        },
        {
          "output_type": "display_data",
          "data": {
            "text/html": [
              "<div>\n",
              "<style scoped>\n",
              "    .dataframe tbody tr th:only-of-type {\n",
              "        vertical-align: middle;\n",
              "    }\n",
              "\n",
              "    .dataframe tbody tr th {\n",
              "        vertical-align: top;\n",
              "    }\n",
              "\n",
              "    .dataframe thead th {\n",
              "        text-align: right;\n",
              "    }\n",
              "</style>\n",
              "<table border=\"1\" class=\"dataframe\">\n",
              "  <thead>\n",
              "    <tr style=\"text-align: right;\">\n",
              "      <th></th>\n",
              "      <th>accuracy</th>\n",
              "      <th>loss</th>\n",
              "      <th>percentage</th>\n",
              "      <th>val_accuracy</th>\n",
              "      <th>val_loss</th>\n",
              "      <th>epochs</th>\n",
              "      <th>pct_data</th>\n",
              "      <th>pct_test</th>\n",
              "    </tr>\n",
              "  </thead>\n",
              "  <tbody>\n",
              "    <tr>\n",
              "      <th>0</th>\n",
              "      <td>0.5852</td>\n",
              "      <td>12.945297</td>\n",
              "      <td>0.5</td>\n",
              "      <td>0.4112</td>\n",
              "      <td>19.885075</td>\n",
              "      <td>3</td>\n",
              "      <td>0.1</td>\n",
              "      <td>0.5</td>\n",
              "    </tr>\n",
              "  </tbody>\n",
              "</table>\n",
              "</div>"
            ],
            "text/plain": [
              "   accuracy       loss  percentage  ...  epochs  pct_data  pct_test\n",
              "0    0.5852  12.945297         0.5  ...       3       0.1       0.5\n",
              "\n",
              "[1 rows x 8 columns]"
            ]
          },
          "metadata": {
            "tags": []
          }
        },
        {
          "output_type": "stream",
          "text": [
            "\n",
            "Training Acc. Diff 9.319999814033508\n",
            "Pruned Acc. Diff 17.400002479553223\n"
          ],
          "name": "stdout"
        }
      ]
    },
    {
      "cell_type": "code",
      "metadata": {
        "id": "uZS7n6p3B4Kk",
        "colab_type": "code",
        "colab": {
          "base_uri": "https://localhost:8080/",
          "height": 864
        },
        "outputId": "0333507f-e215-4733-ece2-2a3da84a2176"
      },
      "source": [
        "on_pct_data(0.4, 0.5)"
      ],
      "execution_count": 77,
      "outputs": [
        {
          "output_type": "stream",
          "text": [
            "No of data - 20000\n",
            "\n",
            " Percentage of Whole data 40.0% Test data 50.0% \n",
            "\n",
            "TRAINING ---\n",
            "Epoch 1/10\n",
            "313/313 [==============================] - 2s 5ms/step - loss: 1.9555 - accuracy: 0.2730 - val_loss: 1.7178 - val_accuracy: 0.3717\n",
            "Epoch 2/10\n",
            "313/313 [==============================] - 2s 5ms/step - loss: 1.5723 - accuracy: 0.4277 - val_loss: 1.5097 - val_accuracy: 0.4605\n",
            "Epoch 3/10\n",
            "313/313 [==============================] - 2s 5ms/step - loss: 1.4156 - accuracy: 0.4898 - val_loss: 1.4911 - val_accuracy: 0.4719\n",
            "Epoch 4/10\n",
            "313/313 [==============================] - 2s 5ms/step - loss: 1.3143 - accuracy: 0.5352 - val_loss: 1.3321 - val_accuracy: 0.5215\n",
            "Epoch 5/10\n",
            "313/313 [==============================] - 2s 5ms/step - loss: 1.2298 - accuracy: 0.5666 - val_loss: 1.3419 - val_accuracy: 0.5217\n",
            "Epoch 6/10\n",
            "313/313 [==============================] - 2s 5ms/step - loss: 1.1473 - accuracy: 0.5983 - val_loss: 1.3632 - val_accuracy: 0.5272\n",
            "Epoch 7/10\n",
            "313/313 [==============================] - 2s 5ms/step - loss: 1.0721 - accuracy: 0.6255 - val_loss: 1.2073 - val_accuracy: 0.5779\n",
            "Epoch 8/10\n",
            "313/313 [==============================] - 2s 5ms/step - loss: 1.0041 - accuracy: 0.6468 - val_loss: 1.2743 - val_accuracy: 0.5613\n",
            "Epoch 9/10\n",
            "313/313 [==============================] - 2s 5ms/step - loss: 0.9494 - accuracy: 0.6657 - val_loss: 1.1786 - val_accuracy: 0.5861\n",
            "Epoch 10/10\n",
            "313/313 [==============================] - 2s 5ms/step - loss: 0.8851 - accuracy: 0.6893 - val_loss: 1.1914 - val_accuracy: 0.5931\n",
            "PRUNING ---\n",
            "Epoch 1/3\n",
            "79/79 [==============================] - 1s 13ms/step - loss: 45.6054 - accuracy: 0.6316 - val_loss: 38.0817 - val_accuracy: 0.5314\n",
            "Epoch 2/3\n",
            "79/79 [==============================] - 1s 12ms/step - loss: 11.3793 - accuracy: 0.4002 - val_loss: 5.0140 - val_accuracy: 0.2780\n",
            "Epoch 3/3\n",
            "79/79 [==============================] - 1s 12ms/step - loss: 3.0976 - accuracy: 0.2195 - val_loss: 2.3821 - val_accuracy: 0.1292\n",
            "\n"
          ],
          "name": "stdout"
        },
        {
          "output_type": "display_data",
          "data": {
            "application/vnd.google.colaboratory.intrinsic": {
              "type": "string"
            },
            "text/plain": [
              "'Trained'"
            ]
          },
          "metadata": {
            "tags": []
          }
        },
        {
          "output_type": "display_data",
          "data": {
            "text/html": [
              "<div>\n",
              "<style scoped>\n",
              "    .dataframe tbody tr th:only-of-type {\n",
              "        vertical-align: middle;\n",
              "    }\n",
              "\n",
              "    .dataframe tbody tr th {\n",
              "        vertical-align: top;\n",
              "    }\n",
              "\n",
              "    .dataframe thead th {\n",
              "        text-align: right;\n",
              "    }\n",
              "</style>\n",
              "<table border=\"1\" class=\"dataframe\">\n",
              "  <thead>\n",
              "    <tr style=\"text-align: right;\">\n",
              "      <th></th>\n",
              "      <th>accuracy</th>\n",
              "      <th>loss</th>\n",
              "      <th>percentage</th>\n",
              "      <th>val_accuracy</th>\n",
              "      <th>val_loss</th>\n",
              "      <th>epochs</th>\n",
              "      <th>pct_data</th>\n",
              "      <th>pct_test</th>\n",
              "    </tr>\n",
              "  </thead>\n",
              "  <tbody>\n",
              "    <tr>\n",
              "      <th>0</th>\n",
              "      <td>0.6893</td>\n",
              "      <td>0.885093</td>\n",
              "      <td>0.5</td>\n",
              "      <td>0.5931</td>\n",
              "      <td>1.191358</td>\n",
              "      <td>10</td>\n",
              "      <td>0.4</td>\n",
              "      <td>0.5</td>\n",
              "    </tr>\n",
              "  </tbody>\n",
              "</table>\n",
              "</div>"
            ],
            "text/plain": [
              "   accuracy      loss  percentage  ...  epochs  pct_data  pct_test\n",
              "0    0.6893  0.885093         0.5  ...      10       0.4       0.5\n",
              "\n",
              "[1 rows x 8 columns]"
            ]
          },
          "metadata": {
            "tags": []
          }
        },
        {
          "output_type": "display_data",
          "data": {
            "application/vnd.google.colaboratory.intrinsic": {
              "type": "string"
            },
            "text/plain": [
              "'Pruned'"
            ]
          },
          "metadata": {
            "tags": []
          }
        },
        {
          "output_type": "display_data",
          "data": {
            "text/html": [
              "<div>\n",
              "<style scoped>\n",
              "    .dataframe tbody tr th:only-of-type {\n",
              "        vertical-align: middle;\n",
              "    }\n",
              "\n",
              "    .dataframe tbody tr th {\n",
              "        vertical-align: top;\n",
              "    }\n",
              "\n",
              "    .dataframe thead th {\n",
              "        text-align: right;\n",
              "    }\n",
              "</style>\n",
              "<table border=\"1\" class=\"dataframe\">\n",
              "  <thead>\n",
              "    <tr style=\"text-align: right;\">\n",
              "      <th></th>\n",
              "      <th>accuracy</th>\n",
              "      <th>loss</th>\n",
              "      <th>percentage</th>\n",
              "      <th>val_accuracy</th>\n",
              "      <th>val_loss</th>\n",
              "      <th>epochs</th>\n",
              "      <th>pct_data</th>\n",
              "      <th>pct_test</th>\n",
              "    </tr>\n",
              "  </thead>\n",
              "  <tbody>\n",
              "    <tr>\n",
              "      <th>0</th>\n",
              "      <td>0.2195</td>\n",
              "      <td>3.097613</td>\n",
              "      <td>0.5</td>\n",
              "      <td>0.1292</td>\n",
              "      <td>2.382054</td>\n",
              "      <td>3</td>\n",
              "      <td>0.4</td>\n",
              "      <td>0.5</td>\n",
              "    </tr>\n",
              "  </tbody>\n",
              "</table>\n",
              "</div>"
            ],
            "text/plain": [
              "   accuracy      loss  percentage  ...  epochs  pct_data  pct_test\n",
              "0    0.2195  3.097613         0.5  ...       3       0.4       0.5\n",
              "\n",
              "[1 rows x 8 columns]"
            ]
          },
          "metadata": {
            "tags": []
          }
        },
        {
          "output_type": "stream",
          "text": [
            "\n",
            "Training Acc. Diff 9.619998931884766\n",
            "Pruned Acc. Diff 9.030000865459442\n"
          ],
          "name": "stdout"
        }
      ]
    },
    {
      "cell_type": "code",
      "metadata": {
        "id": "QQmCJQ8fEgMB",
        "colab_type": "code",
        "colab": {
          "base_uri": "https://localhost:8080/",
          "height": 864
        },
        "outputId": "fd4d3a1d-9a90-4414-d03c-414eb52e0198"
      },
      "source": [
        "on_pct_data(0.8, 0.5)"
      ],
      "execution_count": 78,
      "outputs": [
        {
          "output_type": "stream",
          "text": [
            "No of data - 40000\n",
            "\n",
            " Percentage of Whole data 80.0% Test data 50.0% \n",
            "\n",
            "TRAINING ---\n",
            "Epoch 1/10\n",
            "625/625 [==============================] - 3s 5ms/step - loss: 1.7445 - accuracy: 0.3609 - val_loss: 1.5420 - val_accuracy: 0.4332\n",
            "Epoch 2/10\n",
            "625/625 [==============================] - 3s 4ms/step - loss: 1.3722 - accuracy: 0.5044 - val_loss: 1.3359 - val_accuracy: 0.5246\n",
            "Epoch 3/10\n",
            "625/625 [==============================] - 3s 4ms/step - loss: 1.2198 - accuracy: 0.5663 - val_loss: 1.1619 - val_accuracy: 0.5863\n",
            "Epoch 4/10\n",
            "625/625 [==============================] - 3s 5ms/step - loss: 1.1155 - accuracy: 0.6072 - val_loss: 1.1483 - val_accuracy: 0.5949\n",
            "Epoch 5/10\n",
            "625/625 [==============================] - 3s 4ms/step - loss: 1.0269 - accuracy: 0.6391 - val_loss: 1.0986 - val_accuracy: 0.6092\n",
            "Epoch 6/10\n",
            "625/625 [==============================] - 3s 5ms/step - loss: 0.9440 - accuracy: 0.6679 - val_loss: 1.0687 - val_accuracy: 0.6215\n",
            "Epoch 7/10\n",
            "625/625 [==============================] - 3s 4ms/step - loss: 0.8761 - accuracy: 0.6920 - val_loss: 1.0345 - val_accuracy: 0.6417\n",
            "Epoch 8/10\n",
            "625/625 [==============================] - 3s 4ms/step - loss: 0.8089 - accuracy: 0.7160 - val_loss: 1.0575 - val_accuracy: 0.6339\n",
            "Epoch 9/10\n",
            "625/625 [==============================] - 3s 4ms/step - loss: 0.7607 - accuracy: 0.7311 - val_loss: 1.0315 - val_accuracy: 0.6464\n",
            "Epoch 10/10\n",
            "625/625 [==============================] - 3s 4ms/step - loss: 0.6975 - accuracy: 0.7534 - val_loss: 1.0410 - val_accuracy: 0.6514\n",
            "PRUNING ---\n",
            "Epoch 1/3\n",
            "157/157 [==============================] - 2s 11ms/step - loss: 40.0428 - accuracy: 0.5312 - val_loss: 9.3491 - val_accuracy: 0.2722\n",
            "Epoch 2/3\n",
            "157/157 [==============================] - 2s 10ms/step - loss: 3.3241 - accuracy: 0.1427 - val_loss: 2.3449 - val_accuracy: 0.1119\n",
            "Epoch 3/3\n",
            "157/157 [==============================] - 2s 10ms/step - loss: 2.3304 - accuracy: 0.1037 - val_loss: 2.3181 - val_accuracy: 0.1063\n",
            "\n"
          ],
          "name": "stdout"
        },
        {
          "output_type": "display_data",
          "data": {
            "application/vnd.google.colaboratory.intrinsic": {
              "type": "string"
            },
            "text/plain": [
              "'Trained'"
            ]
          },
          "metadata": {
            "tags": []
          }
        },
        {
          "output_type": "display_data",
          "data": {
            "text/html": [
              "<div>\n",
              "<style scoped>\n",
              "    .dataframe tbody tr th:only-of-type {\n",
              "        vertical-align: middle;\n",
              "    }\n",
              "\n",
              "    .dataframe tbody tr th {\n",
              "        vertical-align: top;\n",
              "    }\n",
              "\n",
              "    .dataframe thead th {\n",
              "        text-align: right;\n",
              "    }\n",
              "</style>\n",
              "<table border=\"1\" class=\"dataframe\">\n",
              "  <thead>\n",
              "    <tr style=\"text-align: right;\">\n",
              "      <th></th>\n",
              "      <th>accuracy</th>\n",
              "      <th>loss</th>\n",
              "      <th>percentage</th>\n",
              "      <th>val_accuracy</th>\n",
              "      <th>val_loss</th>\n",
              "      <th>epochs</th>\n",
              "      <th>pct_data</th>\n",
              "      <th>pct_test</th>\n",
              "    </tr>\n",
              "  </thead>\n",
              "  <tbody>\n",
              "    <tr>\n",
              "      <th>0</th>\n",
              "      <td>0.7534</td>\n",
              "      <td>0.697526</td>\n",
              "      <td>0.5</td>\n",
              "      <td>0.65135</td>\n",
              "      <td>1.040999</td>\n",
              "      <td>10</td>\n",
              "      <td>0.8</td>\n",
              "      <td>0.5</td>\n",
              "    </tr>\n",
              "  </tbody>\n",
              "</table>\n",
              "</div>"
            ],
            "text/plain": [
              "   accuracy      loss  percentage  ...  epochs  pct_data  pct_test\n",
              "0    0.7534  0.697526         0.5  ...      10       0.8       0.5\n",
              "\n",
              "[1 rows x 8 columns]"
            ]
          },
          "metadata": {
            "tags": []
          }
        },
        {
          "output_type": "display_data",
          "data": {
            "application/vnd.google.colaboratory.intrinsic": {
              "type": "string"
            },
            "text/plain": [
              "'Pruned'"
            ]
          },
          "metadata": {
            "tags": []
          }
        },
        {
          "output_type": "display_data",
          "data": {
            "text/html": [
              "<div>\n",
              "<style scoped>\n",
              "    .dataframe tbody tr th:only-of-type {\n",
              "        vertical-align: middle;\n",
              "    }\n",
              "\n",
              "    .dataframe tbody tr th {\n",
              "        vertical-align: top;\n",
              "    }\n",
              "\n",
              "    .dataframe thead th {\n",
              "        text-align: right;\n",
              "    }\n",
              "</style>\n",
              "<table border=\"1\" class=\"dataframe\">\n",
              "  <thead>\n",
              "    <tr style=\"text-align: right;\">\n",
              "      <th></th>\n",
              "      <th>accuracy</th>\n",
              "      <th>loss</th>\n",
              "      <th>percentage</th>\n",
              "      <th>val_accuracy</th>\n",
              "      <th>val_loss</th>\n",
              "      <th>epochs</th>\n",
              "      <th>pct_data</th>\n",
              "      <th>pct_test</th>\n",
              "    </tr>\n",
              "  </thead>\n",
              "  <tbody>\n",
              "    <tr>\n",
              "      <th>0</th>\n",
              "      <td>0.1037</td>\n",
              "      <td>2.330379</td>\n",
              "      <td>0.5</td>\n",
              "      <td>0.1063</td>\n",
              "      <td>2.318101</td>\n",
              "      <td>3</td>\n",
              "      <td>0.8</td>\n",
              "      <td>0.5</td>\n",
              "    </tr>\n",
              "  </tbody>\n",
              "</table>\n",
              "</div>"
            ],
            "text/plain": [
              "   accuracy      loss  percentage  ...  epochs  pct_data  pct_test\n",
              "0    0.1037  2.330379         0.5  ...       3       0.8       0.5\n",
              "\n",
              "[1 rows x 8 columns]"
            ]
          },
          "metadata": {
            "tags": []
          }
        },
        {
          "output_type": "stream",
          "text": [
            "\n",
            "Training Acc. Diff 10.205000638961792\n",
            "Pruned Acc. Diff -0.25999993085861206\n"
          ],
          "name": "stdout"
        }
      ]
    },
    {
      "cell_type": "code",
      "metadata": {
        "id": "SX7r-tyIFHVU",
        "colab_type": "code",
        "colab": {
          "base_uri": "https://localhost:8080/",
          "height": 864
        },
        "outputId": "5091e88e-fc9b-4044-bc0f-94f3b7712aaa"
      },
      "source": [
        "on_pct_data(1.0, 0.5)"
      ],
      "execution_count": 80,
      "outputs": [
        {
          "output_type": "stream",
          "text": [
            "No of data - 50000\n",
            "\n",
            " Percentage of Whole data 100.0% Test data 50.0% \n",
            "\n",
            "TRAINING ---\n",
            "Epoch 1/10\n",
            "782/782 [==============================] - 4s 5ms/step - loss: 1.6893 - accuracy: 0.3742 - val_loss: 1.6418 - val_accuracy: 0.4308\n",
            "Epoch 2/10\n",
            "782/782 [==============================] - 4s 5ms/step - loss: 1.3247 - accuracy: 0.5266 - val_loss: 1.2452 - val_accuracy: 0.5579\n",
            "Epoch 3/10\n",
            "782/782 [==============================] - 4s 5ms/step - loss: 1.1686 - accuracy: 0.5822 - val_loss: 1.1247 - val_accuracy: 0.6010\n",
            "Epoch 4/10\n",
            "782/782 [==============================] - 4s 5ms/step - loss: 1.0552 - accuracy: 0.6273 - val_loss: 1.1009 - val_accuracy: 0.6142\n",
            "Epoch 5/10\n",
            "782/782 [==============================] - 4s 5ms/step - loss: 0.9644 - accuracy: 0.6584 - val_loss: 1.0289 - val_accuracy: 0.6369\n",
            "Epoch 6/10\n",
            "782/782 [==============================] - 4s 5ms/step - loss: 0.8904 - accuracy: 0.6876 - val_loss: 1.0216 - val_accuracy: 0.6462\n",
            "Epoch 7/10\n",
            "782/782 [==============================] - 4s 5ms/step - loss: 0.8296 - accuracy: 0.7061 - val_loss: 0.9841 - val_accuracy: 0.6575\n",
            "Epoch 8/10\n",
            "782/782 [==============================] - 4s 5ms/step - loss: 0.7709 - accuracy: 0.7267 - val_loss: 0.9591 - val_accuracy: 0.6684\n",
            "Epoch 9/10\n",
            "782/782 [==============================] - 4s 5ms/step - loss: 0.7226 - accuracy: 0.7458 - val_loss: 0.9814 - val_accuracy: 0.6621\n",
            "Epoch 10/10\n",
            "782/782 [==============================] - 4s 5ms/step - loss: 0.6671 - accuracy: 0.7623 - val_loss: 1.1154 - val_accuracy: 0.6387\n",
            "PRUNING ---\n",
            "Epoch 1/3\n",
            "196/196 [==============================] - 2s 10ms/step - loss: 18.6727 - accuracy: 0.3960 - val_loss: 2.5843 - val_accuracy: 0.1197\n",
            "Epoch 2/3\n",
            "196/196 [==============================] - 2s 10ms/step - loss: 2.3391 - accuracy: 0.1015 - val_loss: 2.3189 - val_accuracy: 0.1027\n",
            "Epoch 3/3\n",
            "196/196 [==============================] - 2s 11ms/step - loss: 2.3130 - accuracy: 0.1060 - val_loss: 2.3126 - val_accuracy: 0.1092\n",
            "\n"
          ],
          "name": "stdout"
        },
        {
          "output_type": "display_data",
          "data": {
            "application/vnd.google.colaboratory.intrinsic": {
              "type": "string"
            },
            "text/plain": [
              "'Trained'"
            ]
          },
          "metadata": {
            "tags": []
          }
        },
        {
          "output_type": "display_data",
          "data": {
            "text/html": [
              "<div>\n",
              "<style scoped>\n",
              "    .dataframe tbody tr th:only-of-type {\n",
              "        vertical-align: middle;\n",
              "    }\n",
              "\n",
              "    .dataframe tbody tr th {\n",
              "        vertical-align: top;\n",
              "    }\n",
              "\n",
              "    .dataframe thead th {\n",
              "        text-align: right;\n",
              "    }\n",
              "</style>\n",
              "<table border=\"1\" class=\"dataframe\">\n",
              "  <thead>\n",
              "    <tr style=\"text-align: right;\">\n",
              "      <th></th>\n",
              "      <th>accuracy</th>\n",
              "      <th>loss</th>\n",
              "      <th>percentage</th>\n",
              "      <th>val_accuracy</th>\n",
              "      <th>val_loss</th>\n",
              "      <th>epochs</th>\n",
              "      <th>pct_data</th>\n",
              "      <th>pct_test</th>\n",
              "    </tr>\n",
              "  </thead>\n",
              "  <tbody>\n",
              "    <tr>\n",
              "      <th>0</th>\n",
              "      <td>0.76232</td>\n",
              "      <td>0.667134</td>\n",
              "      <td>0.5</td>\n",
              "      <td>0.63868</td>\n",
              "      <td>1.115362</td>\n",
              "      <td>10</td>\n",
              "      <td>1.0</td>\n",
              "      <td>0.5</td>\n",
              "    </tr>\n",
              "  </tbody>\n",
              "</table>\n",
              "</div>"
            ],
            "text/plain": [
              "   accuracy      loss  percentage  ...  epochs  pct_data  pct_test\n",
              "0   0.76232  0.667134         0.5  ...      10       1.0       0.5\n",
              "\n",
              "[1 rows x 8 columns]"
            ]
          },
          "metadata": {
            "tags": []
          }
        },
        {
          "output_type": "display_data",
          "data": {
            "application/vnd.google.colaboratory.intrinsic": {
              "type": "string"
            },
            "text/plain": [
              "'Pruned'"
            ]
          },
          "metadata": {
            "tags": []
          }
        },
        {
          "output_type": "display_data",
          "data": {
            "text/html": [
              "<div>\n",
              "<style scoped>\n",
              "    .dataframe tbody tr th:only-of-type {\n",
              "        vertical-align: middle;\n",
              "    }\n",
              "\n",
              "    .dataframe tbody tr th {\n",
              "        vertical-align: top;\n",
              "    }\n",
              "\n",
              "    .dataframe thead th {\n",
              "        text-align: right;\n",
              "    }\n",
              "</style>\n",
              "<table border=\"1\" class=\"dataframe\">\n",
              "  <thead>\n",
              "    <tr style=\"text-align: right;\">\n",
              "      <th></th>\n",
              "      <th>accuracy</th>\n",
              "      <th>loss</th>\n",
              "      <th>percentage</th>\n",
              "      <th>val_accuracy</th>\n",
              "      <th>val_loss</th>\n",
              "      <th>epochs</th>\n",
              "      <th>pct_data</th>\n",
              "      <th>pct_test</th>\n",
              "    </tr>\n",
              "  </thead>\n",
              "  <tbody>\n",
              "    <tr>\n",
              "      <th>0</th>\n",
              "      <td>0.10596</td>\n",
              "      <td>2.312976</td>\n",
              "      <td>0.5</td>\n",
              "      <td>0.1092</td>\n",
              "      <td>2.31258</td>\n",
              "      <td>3</td>\n",
              "      <td>1.0</td>\n",
              "      <td>0.5</td>\n",
              "    </tr>\n",
              "  </tbody>\n",
              "</table>\n",
              "</div>"
            ],
            "text/plain": [
              "   accuracy      loss  percentage  ...  epochs  pct_data  pct_test\n",
              "0   0.10596  2.312976         0.5  ...       3       1.0       0.5\n",
              "\n",
              "[1 rows x 8 columns]"
            ]
          },
          "metadata": {
            "tags": []
          }
        },
        {
          "output_type": "stream",
          "text": [
            "\n",
            "Training Acc. Diff 12.364000082015991\n",
            "Pruned Acc. Diff -0.32400041818618774\n"
          ],
          "name": "stdout"
        }
      ]
    },
    {
      "cell_type": "code",
      "metadata": {
        "id": "HMePEYi7HnLw",
        "colab_type": "code",
        "colab": {
          "base_uri": "https://localhost:8080/",
          "height": 864
        },
        "outputId": "cfd6c48b-a8c0-4fbf-e4f0-5010ee369eea"
      },
      "source": [
        "on_pct_data(0.1, 0.9)"
      ],
      "execution_count": 81,
      "outputs": [
        {
          "output_type": "stream",
          "text": [
            "No of data - 5000\n",
            "\n",
            " Percentage of Whole data 10.0% Test data 90.0% \n",
            "\n",
            "TRAINING ---\n",
            "Epoch 1/10\n",
            "16/16 [==============================] - 0s 31ms/step - loss: 2.3113 - accuracy: 0.0920 - val_loss: 2.2955 - val_accuracy: 0.1011\n",
            "Epoch 2/10\n",
            "16/16 [==============================] - 0s 24ms/step - loss: 2.2873 - accuracy: 0.1060 - val_loss: 2.2689 - val_accuracy: 0.1929\n",
            "Epoch 3/10\n",
            "16/16 [==============================] - 0s 26ms/step - loss: 2.2124 - accuracy: 0.2020 - val_loss: 2.1908 - val_accuracy: 0.1618\n",
            "Epoch 4/10\n",
            "16/16 [==============================] - 0s 24ms/step - loss: 2.0925 - accuracy: 0.2260 - val_loss: 2.0351 - val_accuracy: 0.2460\n",
            "Epoch 5/10\n",
            "16/16 [==============================] - 0s 27ms/step - loss: 1.9766 - accuracy: 0.2900 - val_loss: 1.9835 - val_accuracy: 0.2673\n",
            "Epoch 6/10\n",
            "16/16 [==============================] - 0s 25ms/step - loss: 1.9588 - accuracy: 0.2740 - val_loss: 2.0565 - val_accuracy: 0.2440\n",
            "Epoch 7/10\n",
            "16/16 [==============================] - 0s 24ms/step - loss: 1.9025 - accuracy: 0.3000 - val_loss: 1.9678 - val_accuracy: 0.2636\n",
            "Epoch 8/10\n",
            "16/16 [==============================] - 0s 25ms/step - loss: 1.7916 - accuracy: 0.3700 - val_loss: 1.8944 - val_accuracy: 0.3107\n",
            "Epoch 9/10\n",
            "16/16 [==============================] - 0s 24ms/step - loss: 1.6922 - accuracy: 0.4020 - val_loss: 1.8516 - val_accuracy: 0.3309\n",
            "Epoch 10/10\n",
            "16/16 [==============================] - 0s 24ms/step - loss: 1.6701 - accuracy: 0.3900 - val_loss: 1.8625 - val_accuracy: 0.3331\n",
            "PRUNING ---\n",
            "Epoch 1/3\n",
            "4/4 [==============================] - 0s 86ms/step - loss: 82.9857 - accuracy: 0.4140 - val_loss: 102.3580 - val_accuracy: 0.2684\n",
            "Epoch 2/3\n",
            "4/4 [==============================] - 0s 48ms/step - loss: 53.2122 - accuracy: 0.4320 - val_loss: 75.7743 - val_accuracy: 0.2854\n",
            "Epoch 3/3\n",
            "4/4 [==============================] - 0s 48ms/step - loss: 38.3034 - accuracy: 0.4760 - val_loss: 53.5986 - val_accuracy: 0.2980\n",
            "\n"
          ],
          "name": "stdout"
        },
        {
          "output_type": "display_data",
          "data": {
            "application/vnd.google.colaboratory.intrinsic": {
              "type": "string"
            },
            "text/plain": [
              "'Trained'"
            ]
          },
          "metadata": {
            "tags": []
          }
        },
        {
          "output_type": "display_data",
          "data": {
            "text/html": [
              "<div>\n",
              "<style scoped>\n",
              "    .dataframe tbody tr th:only-of-type {\n",
              "        vertical-align: middle;\n",
              "    }\n",
              "\n",
              "    .dataframe tbody tr th {\n",
              "        vertical-align: top;\n",
              "    }\n",
              "\n",
              "    .dataframe thead th {\n",
              "        text-align: right;\n",
              "    }\n",
              "</style>\n",
              "<table border=\"1\" class=\"dataframe\">\n",
              "  <thead>\n",
              "    <tr style=\"text-align: right;\">\n",
              "      <th></th>\n",
              "      <th>accuracy</th>\n",
              "      <th>loss</th>\n",
              "      <th>percentage</th>\n",
              "      <th>val_accuracy</th>\n",
              "      <th>val_loss</th>\n",
              "      <th>epochs</th>\n",
              "      <th>pct_data</th>\n",
              "      <th>pct_test</th>\n",
              "    </tr>\n",
              "  </thead>\n",
              "  <tbody>\n",
              "    <tr>\n",
              "      <th>0</th>\n",
              "      <td>0.39</td>\n",
              "      <td>1.670102</td>\n",
              "      <td>0.1</td>\n",
              "      <td>0.333111</td>\n",
              "      <td>1.862452</td>\n",
              "      <td>10</td>\n",
              "      <td>0.1</td>\n",
              "      <td>0.9</td>\n",
              "    </tr>\n",
              "  </tbody>\n",
              "</table>\n",
              "</div>"
            ],
            "text/plain": [
              "   accuracy      loss  percentage  ...  epochs  pct_data  pct_test\n",
              "0      0.39  1.670102         0.1  ...      10       0.1       0.9\n",
              "\n",
              "[1 rows x 8 columns]"
            ]
          },
          "metadata": {
            "tags": []
          }
        },
        {
          "output_type": "display_data",
          "data": {
            "application/vnd.google.colaboratory.intrinsic": {
              "type": "string"
            },
            "text/plain": [
              "'Pruned'"
            ]
          },
          "metadata": {
            "tags": []
          }
        },
        {
          "output_type": "display_data",
          "data": {
            "text/html": [
              "<div>\n",
              "<style scoped>\n",
              "    .dataframe tbody tr th:only-of-type {\n",
              "        vertical-align: middle;\n",
              "    }\n",
              "\n",
              "    .dataframe tbody tr th {\n",
              "        vertical-align: top;\n",
              "    }\n",
              "\n",
              "    .dataframe thead th {\n",
              "        text-align: right;\n",
              "    }\n",
              "</style>\n",
              "<table border=\"1\" class=\"dataframe\">\n",
              "  <thead>\n",
              "    <tr style=\"text-align: right;\">\n",
              "      <th></th>\n",
              "      <th>accuracy</th>\n",
              "      <th>loss</th>\n",
              "      <th>percentage</th>\n",
              "      <th>val_accuracy</th>\n",
              "      <th>val_loss</th>\n",
              "      <th>epochs</th>\n",
              "      <th>pct_data</th>\n",
              "      <th>pct_test</th>\n",
              "    </tr>\n",
              "  </thead>\n",
              "  <tbody>\n",
              "    <tr>\n",
              "      <th>0</th>\n",
              "      <td>0.476</td>\n",
              "      <td>38.303448</td>\n",
              "      <td>0.1</td>\n",
              "      <td>0.298</td>\n",
              "      <td>53.598587</td>\n",
              "      <td>3</td>\n",
              "      <td>0.1</td>\n",
              "      <td>0.9</td>\n",
              "    </tr>\n",
              "  </tbody>\n",
              "</table>\n",
              "</div>"
            ],
            "text/plain": [
              "   accuracy       loss  percentage  ...  epochs  pct_data  pct_test\n",
              "0     0.476  38.303448         0.1  ...       3       0.1       0.9\n",
              "\n",
              "[1 rows x 8 columns]"
            ]
          },
          "metadata": {
            "tags": []
          }
        },
        {
          "output_type": "stream",
          "text": [
            "\n",
            "Training Acc. Diff 5.68888783454895\n",
            "Pruned Acc. Diff 17.800000309944153\n"
          ],
          "name": "stdout"
        }
      ]
    },
    {
      "cell_type": "code",
      "metadata": {
        "id": "ciqLS06jIHyk",
        "colab_type": "code",
        "colab": {
          "base_uri": "https://localhost:8080/",
          "height": 864
        },
        "outputId": "a779e631-77b8-4eab-bb4d-392a9c1ad4f9"
      },
      "source": [
        "on_pct_data(0.1, 0.6)"
      ],
      "execution_count": 82,
      "outputs": [
        {
          "output_type": "stream",
          "text": [
            "No of data - 5000\n",
            "\n",
            " Percentage of Whole data 10.0% Test data 60.0% \n",
            "\n",
            "TRAINING ---\n",
            "Epoch 1/10\n",
            "63/63 [==============================] - 0s 8ms/step - loss: 2.2244 - accuracy: 0.1535 - val_loss: 2.0826 - val_accuracy: 0.2013\n",
            "Epoch 2/10\n",
            "63/63 [==============================] - 0s 6ms/step - loss: 2.0189 - accuracy: 0.2440 - val_loss: 1.9408 - val_accuracy: 0.2763\n",
            "Epoch 3/10\n",
            "63/63 [==============================] - 0s 6ms/step - loss: 1.8698 - accuracy: 0.3190 - val_loss: 1.8165 - val_accuracy: 0.3210\n",
            "Epoch 4/10\n",
            "63/63 [==============================] - 0s 6ms/step - loss: 1.7175 - accuracy: 0.3735 - val_loss: 1.7481 - val_accuracy: 0.3437\n",
            "Epoch 5/10\n",
            "63/63 [==============================] - 0s 6ms/step - loss: 1.6165 - accuracy: 0.4015 - val_loss: 1.6174 - val_accuracy: 0.3973\n",
            "Epoch 6/10\n",
            "63/63 [==============================] - 0s 6ms/step - loss: 1.5071 - accuracy: 0.4405 - val_loss: 1.7395 - val_accuracy: 0.3700\n",
            "Epoch 7/10\n",
            "63/63 [==============================] - 0s 6ms/step - loss: 1.4815 - accuracy: 0.4675 - val_loss: 1.5487 - val_accuracy: 0.4110\n",
            "Epoch 8/10\n",
            "63/63 [==============================] - 0s 6ms/step - loss: 1.3509 - accuracy: 0.5035 - val_loss: 1.4970 - val_accuracy: 0.4443\n",
            "Epoch 9/10\n",
            "63/63 [==============================] - 0s 6ms/step - loss: 1.2638 - accuracy: 0.5510 - val_loss: 1.4817 - val_accuracy: 0.4557\n",
            "Epoch 10/10\n",
            "63/63 [==============================] - 0s 6ms/step - loss: 1.1973 - accuracy: 0.5715 - val_loss: 1.4771 - val_accuracy: 0.4657\n",
            "PRUNING ---\n",
            "Epoch 1/3\n",
            "16/16 [==============================] - 0s 28ms/step - loss: 83.4137 - accuracy: 0.4835 - val_loss: 64.1723 - val_accuracy: 0.4068\n",
            "Epoch 2/3\n",
            "16/16 [==============================] - 0s 17ms/step - loss: 24.4157 - accuracy: 0.5475 - val_loss: 32.0325 - val_accuracy: 0.4004\n",
            "Epoch 3/3\n",
            "16/16 [==============================] - 0s 17ms/step - loss: 12.3138 - accuracy: 0.5610 - val_loss: 20.0947 - val_accuracy: 0.3944\n",
            "\n"
          ],
          "name": "stdout"
        },
        {
          "output_type": "display_data",
          "data": {
            "application/vnd.google.colaboratory.intrinsic": {
              "type": "string"
            },
            "text/plain": [
              "'Trained'"
            ]
          },
          "metadata": {
            "tags": []
          }
        },
        {
          "output_type": "display_data",
          "data": {
            "text/html": [
              "<div>\n",
              "<style scoped>\n",
              "    .dataframe tbody tr th:only-of-type {\n",
              "        vertical-align: middle;\n",
              "    }\n",
              "\n",
              "    .dataframe tbody tr th {\n",
              "        vertical-align: top;\n",
              "    }\n",
              "\n",
              "    .dataframe thead th {\n",
              "        text-align: right;\n",
              "    }\n",
              "</style>\n",
              "<table border=\"1\" class=\"dataframe\">\n",
              "  <thead>\n",
              "    <tr style=\"text-align: right;\">\n",
              "      <th></th>\n",
              "      <th>accuracy</th>\n",
              "      <th>loss</th>\n",
              "      <th>percentage</th>\n",
              "      <th>val_accuracy</th>\n",
              "      <th>val_loss</th>\n",
              "      <th>epochs</th>\n",
              "      <th>pct_data</th>\n",
              "      <th>pct_test</th>\n",
              "    </tr>\n",
              "  </thead>\n",
              "  <tbody>\n",
              "    <tr>\n",
              "      <th>0</th>\n",
              "      <td>0.5715</td>\n",
              "      <td>1.19727</td>\n",
              "      <td>0.4</td>\n",
              "      <td>0.465667</td>\n",
              "      <td>1.477077</td>\n",
              "      <td>10</td>\n",
              "      <td>0.1</td>\n",
              "      <td>0.6</td>\n",
              "    </tr>\n",
              "  </tbody>\n",
              "</table>\n",
              "</div>"
            ],
            "text/plain": [
              "   accuracy     loss  percentage  ...  epochs  pct_data  pct_test\n",
              "0    0.5715  1.19727         0.4  ...      10       0.1       0.6\n",
              "\n",
              "[1 rows x 8 columns]"
            ]
          },
          "metadata": {
            "tags": []
          }
        },
        {
          "output_type": "display_data",
          "data": {
            "application/vnd.google.colaboratory.intrinsic": {
              "type": "string"
            },
            "text/plain": [
              "'Pruned'"
            ]
          },
          "metadata": {
            "tags": []
          }
        },
        {
          "output_type": "display_data",
          "data": {
            "text/html": [
              "<div>\n",
              "<style scoped>\n",
              "    .dataframe tbody tr th:only-of-type {\n",
              "        vertical-align: middle;\n",
              "    }\n",
              "\n",
              "    .dataframe tbody tr th {\n",
              "        vertical-align: top;\n",
              "    }\n",
              "\n",
              "    .dataframe thead th {\n",
              "        text-align: right;\n",
              "    }\n",
              "</style>\n",
              "<table border=\"1\" class=\"dataframe\">\n",
              "  <thead>\n",
              "    <tr style=\"text-align: right;\">\n",
              "      <th></th>\n",
              "      <th>accuracy</th>\n",
              "      <th>loss</th>\n",
              "      <th>percentage</th>\n",
              "      <th>val_accuracy</th>\n",
              "      <th>val_loss</th>\n",
              "      <th>epochs</th>\n",
              "      <th>pct_data</th>\n",
              "      <th>pct_test</th>\n",
              "    </tr>\n",
              "  </thead>\n",
              "  <tbody>\n",
              "    <tr>\n",
              "      <th>0</th>\n",
              "      <td>0.561</td>\n",
              "      <td>12.313752</td>\n",
              "      <td>0.4</td>\n",
              "      <td>0.3944</td>\n",
              "      <td>20.094696</td>\n",
              "      <td>3</td>\n",
              "      <td>0.1</td>\n",
              "      <td>0.6</td>\n",
              "    </tr>\n",
              "  </tbody>\n",
              "</table>\n",
              "</div>"
            ],
            "text/plain": [
              "   accuracy       loss  percentage  ...  epochs  pct_data  pct_test\n",
              "0     0.561  12.313752         0.4  ...       3       0.1       0.6\n",
              "\n",
              "[1 rows x 8 columns]"
            ]
          },
          "metadata": {
            "tags": []
          }
        },
        {
          "output_type": "stream",
          "text": [
            "\n",
            "Training Acc. Diff 10.583332180976868\n",
            "Pruned Acc. Diff 16.659998893737793\n"
          ],
          "name": "stdout"
        }
      ]
    },
    {
      "cell_type": "code",
      "metadata": {
        "id": "bNOo7gRbIJQQ",
        "colab_type": "code",
        "colab": {
          "base_uri": "https://localhost:8080/",
          "height": 864
        },
        "outputId": "deee4fea-5a18-4456-d6c2-549dffe5ed46"
      },
      "source": [
        "on_pct_data(0.1, 0.3)"
      ],
      "execution_count": 83,
      "outputs": [
        {
          "output_type": "stream",
          "text": [
            "No of data - 5000\n",
            "\n",
            " Percentage of Whole data 10.0% Test data 30.0% \n",
            "\n",
            "TRAINING ---\n",
            "Epoch 1/10\n",
            "110/110 [==============================] - 1s 5ms/step - loss: 2.1912 - accuracy: 0.1786 - val_loss: 1.9717 - val_accuracy: 0.2947\n",
            "Epoch 2/10\n",
            "110/110 [==============================] - 0s 4ms/step - loss: 1.8755 - accuracy: 0.3111 - val_loss: 1.7617 - val_accuracy: 0.3487\n",
            "Epoch 3/10\n",
            "110/110 [==============================] - 0s 4ms/step - loss: 1.6935 - accuracy: 0.3771 - val_loss: 1.6597 - val_accuracy: 0.3953\n",
            "Epoch 4/10\n",
            "110/110 [==============================] - 0s 4ms/step - loss: 1.5585 - accuracy: 0.4249 - val_loss: 1.6052 - val_accuracy: 0.4220\n",
            "Epoch 5/10\n",
            "110/110 [==============================] - 0s 4ms/step - loss: 1.4408 - accuracy: 0.4914 - val_loss: 1.4923 - val_accuracy: 0.4560\n",
            "Epoch 6/10\n",
            "110/110 [==============================] - 0s 4ms/step - loss: 1.3604 - accuracy: 0.5089 - val_loss: 1.4483 - val_accuracy: 0.4767\n",
            "Epoch 7/10\n",
            "110/110 [==============================] - 0s 4ms/step - loss: 1.2596 - accuracy: 0.5469 - val_loss: 1.4709 - val_accuracy: 0.4740\n",
            "Epoch 8/10\n",
            "110/110 [==============================] - 0s 4ms/step - loss: 1.1936 - accuracy: 0.5751 - val_loss: 1.4100 - val_accuracy: 0.4827\n",
            "Epoch 9/10\n",
            "110/110 [==============================] - 0s 4ms/step - loss: 1.1166 - accuracy: 0.6051 - val_loss: 1.4045 - val_accuracy: 0.5107\n",
            "Epoch 10/10\n",
            "110/110 [==============================] - 0s 4ms/step - loss: 1.0468 - accuracy: 0.6289 - val_loss: 1.5191 - val_accuracy: 0.4860\n",
            "PRUNING ---\n",
            "Epoch 1/3\n",
            "28/28 [==============================] - 1s 20ms/step - loss: 111.3536 - accuracy: 0.5069 - val_loss: 60.4778 - val_accuracy: 0.4770\n",
            "Epoch 2/3\n",
            "28/28 [==============================] - 0s 14ms/step - loss: 24.3980 - accuracy: 0.6166 - val_loss: 38.7574 - val_accuracy: 0.4796\n",
            "Epoch 3/3\n",
            "28/28 [==============================] - 0s 13ms/step - loss: 15.8629 - accuracy: 0.6366 - val_loss: 29.2369 - val_accuracy: 0.4712\n",
            "\n"
          ],
          "name": "stdout"
        },
        {
          "output_type": "display_data",
          "data": {
            "application/vnd.google.colaboratory.intrinsic": {
              "type": "string"
            },
            "text/plain": [
              "'Trained'"
            ]
          },
          "metadata": {
            "tags": []
          }
        },
        {
          "output_type": "display_data",
          "data": {
            "text/html": [
              "<div>\n",
              "<style scoped>\n",
              "    .dataframe tbody tr th:only-of-type {\n",
              "        vertical-align: middle;\n",
              "    }\n",
              "\n",
              "    .dataframe tbody tr th {\n",
              "        vertical-align: top;\n",
              "    }\n",
              "\n",
              "    .dataframe thead th {\n",
              "        text-align: right;\n",
              "    }\n",
              "</style>\n",
              "<table border=\"1\" class=\"dataframe\">\n",
              "  <thead>\n",
              "    <tr style=\"text-align: right;\">\n",
              "      <th></th>\n",
              "      <th>accuracy</th>\n",
              "      <th>loss</th>\n",
              "      <th>percentage</th>\n",
              "      <th>val_accuracy</th>\n",
              "      <th>val_loss</th>\n",
              "      <th>epochs</th>\n",
              "      <th>pct_data</th>\n",
              "      <th>pct_test</th>\n",
              "    </tr>\n",
              "  </thead>\n",
              "  <tbody>\n",
              "    <tr>\n",
              "      <th>0</th>\n",
              "      <td>0.628857</td>\n",
              "      <td>1.046791</td>\n",
              "      <td>0.7</td>\n",
              "      <td>0.486</td>\n",
              "      <td>1.519135</td>\n",
              "      <td>10</td>\n",
              "      <td>0.1</td>\n",
              "      <td>0.3</td>\n",
              "    </tr>\n",
              "  </tbody>\n",
              "</table>\n",
              "</div>"
            ],
            "text/plain": [
              "   accuracy      loss  percentage  ...  epochs  pct_data  pct_test\n",
              "0  0.628857  1.046791         0.7  ...      10       0.1       0.3\n",
              "\n",
              "[1 rows x 8 columns]"
            ]
          },
          "metadata": {
            "tags": []
          }
        },
        {
          "output_type": "display_data",
          "data": {
            "application/vnd.google.colaboratory.intrinsic": {
              "type": "string"
            },
            "text/plain": [
              "'Pruned'"
            ]
          },
          "metadata": {
            "tags": []
          }
        },
        {
          "output_type": "display_data",
          "data": {
            "text/html": [
              "<div>\n",
              "<style scoped>\n",
              "    .dataframe tbody tr th:only-of-type {\n",
              "        vertical-align: middle;\n",
              "    }\n",
              "\n",
              "    .dataframe tbody tr th {\n",
              "        vertical-align: top;\n",
              "    }\n",
              "\n",
              "    .dataframe thead th {\n",
              "        text-align: right;\n",
              "    }\n",
              "</style>\n",
              "<table border=\"1\" class=\"dataframe\">\n",
              "  <thead>\n",
              "    <tr style=\"text-align: right;\">\n",
              "      <th></th>\n",
              "      <th>accuracy</th>\n",
              "      <th>loss</th>\n",
              "      <th>percentage</th>\n",
              "      <th>val_accuracy</th>\n",
              "      <th>val_loss</th>\n",
              "      <th>epochs</th>\n",
              "      <th>pct_data</th>\n",
              "      <th>pct_test</th>\n",
              "    </tr>\n",
              "  </thead>\n",
              "  <tbody>\n",
              "    <tr>\n",
              "      <th>0</th>\n",
              "      <td>0.636571</td>\n",
              "      <td>15.862948</td>\n",
              "      <td>0.7</td>\n",
              "      <td>0.4712</td>\n",
              "      <td>29.236944</td>\n",
              "      <td>3</td>\n",
              "      <td>0.1</td>\n",
              "      <td>0.3</td>\n",
              "    </tr>\n",
              "  </tbody>\n",
              "</table>\n",
              "</div>"
            ],
            "text/plain": [
              "   accuracy       loss  percentage  ...  epochs  pct_data  pct_test\n",
              "0  0.636571  15.862948         0.7  ...       3       0.1       0.3\n",
              "\n",
              "[1 rows x 8 columns]"
            ]
          },
          "metadata": {
            "tags": []
          }
        },
        {
          "output_type": "stream",
          "text": [
            "\n",
            "Training Acc. Diff 14.28571343421936\n",
            "Pruned Acc. Diff 16.537141799926758\n"
          ],
          "name": "stdout"
        }
      ]
    },
    {
      "cell_type": "code",
      "metadata": {
        "id": "RIMDTR7SINfe",
        "colab_type": "code",
        "colab": {
          "base_uri": "https://localhost:8080/",
          "height": 864
        },
        "outputId": "9048adcb-c5cc-41b6-814c-ddae33c1db08"
      },
      "source": [
        "on_pct_data(0.1, 0.1)"
      ],
      "execution_count": 84,
      "outputs": [
        {
          "output_type": "stream",
          "text": [
            "No of data - 5000\n",
            "\n",
            " Percentage of Whole data 10.0% Test data 10.0% \n",
            "\n",
            "TRAINING ---\n",
            "Epoch 1/10\n",
            "141/141 [==============================] - 1s 4ms/step - loss: 2.0850 - accuracy: 0.2229 - val_loss: 1.9032 - val_accuracy: 0.2740\n",
            "Epoch 2/10\n",
            "141/141 [==============================] - 0s 3ms/step - loss: 1.7946 - accuracy: 0.3351 - val_loss: 1.6468 - val_accuracy: 0.3700\n",
            "Epoch 3/10\n",
            "141/141 [==============================] - 0s 3ms/step - loss: 1.6495 - accuracy: 0.3867 - val_loss: 1.5898 - val_accuracy: 0.4060\n",
            "Epoch 4/10\n",
            "141/141 [==============================] - 0s 3ms/step - loss: 1.5391 - accuracy: 0.4422 - val_loss: 1.4461 - val_accuracy: 0.4480\n",
            "Epoch 5/10\n",
            "141/141 [==============================] - 0s 3ms/step - loss: 1.4499 - accuracy: 0.4762 - val_loss: 1.3761 - val_accuracy: 0.4800\n",
            "Epoch 6/10\n",
            "141/141 [==============================] - 0s 3ms/step - loss: 1.3602 - accuracy: 0.5156 - val_loss: 1.3789 - val_accuracy: 0.4740\n",
            "Epoch 7/10\n",
            "141/141 [==============================] - 0s 3ms/step - loss: 1.2934 - accuracy: 0.5371 - val_loss: 1.3796 - val_accuracy: 0.5020\n",
            "Epoch 8/10\n",
            "141/141 [==============================] - 0s 3ms/step - loss: 1.2300 - accuracy: 0.5596 - val_loss: 1.3246 - val_accuracy: 0.5040\n",
            "Epoch 9/10\n",
            "141/141 [==============================] - 0s 3ms/step - loss: 1.1799 - accuracy: 0.5791 - val_loss: 1.3723 - val_accuracy: 0.4880\n",
            "Epoch 10/10\n",
            "141/141 [==============================] - 0s 3ms/step - loss: 1.1205 - accuracy: 0.6042 - val_loss: 1.3048 - val_accuracy: 0.5140\n",
            "PRUNING ---\n",
            "Epoch 1/3\n",
            "36/36 [==============================] - 1s 16ms/step - loss: 61.7642 - accuracy: 0.5524 - val_loss: 45.9913 - val_accuracy: 0.4698\n",
            "Epoch 2/3\n",
            "36/36 [==============================] - 0s 12ms/step - loss: 17.6890 - accuracy: 0.5973 - val_loss: 24.3708 - val_accuracy: 0.4624\n",
            "Epoch 3/3\n",
            "36/36 [==============================] - 0s 12ms/step - loss: 10.2271 - accuracy: 0.5769 - val_loss: 13.7418 - val_accuracy: 0.4230\n",
            "\n"
          ],
          "name": "stdout"
        },
        {
          "output_type": "display_data",
          "data": {
            "application/vnd.google.colaboratory.intrinsic": {
              "type": "string"
            },
            "text/plain": [
              "'Trained'"
            ]
          },
          "metadata": {
            "tags": []
          }
        },
        {
          "output_type": "display_data",
          "data": {
            "text/html": [
              "<div>\n",
              "<style scoped>\n",
              "    .dataframe tbody tr th:only-of-type {\n",
              "        vertical-align: middle;\n",
              "    }\n",
              "\n",
              "    .dataframe tbody tr th {\n",
              "        vertical-align: top;\n",
              "    }\n",
              "\n",
              "    .dataframe thead th {\n",
              "        text-align: right;\n",
              "    }\n",
              "</style>\n",
              "<table border=\"1\" class=\"dataframe\">\n",
              "  <thead>\n",
              "    <tr style=\"text-align: right;\">\n",
              "      <th></th>\n",
              "      <th>accuracy</th>\n",
              "      <th>loss</th>\n",
              "      <th>percentage</th>\n",
              "      <th>val_accuracy</th>\n",
              "      <th>val_loss</th>\n",
              "      <th>epochs</th>\n",
              "      <th>pct_data</th>\n",
              "      <th>pct_test</th>\n",
              "    </tr>\n",
              "  </thead>\n",
              "  <tbody>\n",
              "    <tr>\n",
              "      <th>0</th>\n",
              "      <td>0.604222</td>\n",
              "      <td>1.1205</td>\n",
              "      <td>0.9</td>\n",
              "      <td>0.514</td>\n",
              "      <td>1.304809</td>\n",
              "      <td>10</td>\n",
              "      <td>0.1</td>\n",
              "      <td>0.1</td>\n",
              "    </tr>\n",
              "  </tbody>\n",
              "</table>\n",
              "</div>"
            ],
            "text/plain": [
              "   accuracy    loss  percentage  ...  epochs  pct_data  pct_test\n",
              "0  0.604222  1.1205         0.9  ...      10       0.1       0.1\n",
              "\n",
              "[1 rows x 8 columns]"
            ]
          },
          "metadata": {
            "tags": []
          }
        },
        {
          "output_type": "display_data",
          "data": {
            "application/vnd.google.colaboratory.intrinsic": {
              "type": "string"
            },
            "text/plain": [
              "'Pruned'"
            ]
          },
          "metadata": {
            "tags": []
          }
        },
        {
          "output_type": "display_data",
          "data": {
            "text/html": [
              "<div>\n",
              "<style scoped>\n",
              "    .dataframe tbody tr th:only-of-type {\n",
              "        vertical-align: middle;\n",
              "    }\n",
              "\n",
              "    .dataframe tbody tr th {\n",
              "        vertical-align: top;\n",
              "    }\n",
              "\n",
              "    .dataframe thead th {\n",
              "        text-align: right;\n",
              "    }\n",
              "</style>\n",
              "<table border=\"1\" class=\"dataframe\">\n",
              "  <thead>\n",
              "    <tr style=\"text-align: right;\">\n",
              "      <th></th>\n",
              "      <th>accuracy</th>\n",
              "      <th>loss</th>\n",
              "      <th>percentage</th>\n",
              "      <th>val_accuracy</th>\n",
              "      <th>val_loss</th>\n",
              "      <th>epochs</th>\n",
              "      <th>pct_data</th>\n",
              "      <th>pct_test</th>\n",
              "    </tr>\n",
              "  </thead>\n",
              "  <tbody>\n",
              "    <tr>\n",
              "      <th>0</th>\n",
              "      <td>0.576889</td>\n",
              "      <td>10.227122</td>\n",
              "      <td>0.9</td>\n",
              "      <td>0.423</td>\n",
              "      <td>13.741801</td>\n",
              "      <td>3</td>\n",
              "      <td>0.1</td>\n",
              "      <td>0.1</td>\n",
              "    </tr>\n",
              "  </tbody>\n",
              "</table>\n",
              "</div>"
            ],
            "text/plain": [
              "   accuracy       loss  percentage  ...  epochs  pct_data  pct_test\n",
              "0  0.576889  10.227122         0.9  ...       3       0.1       0.1\n",
              "\n",
              "[1 rows x 8 columns]"
            ]
          },
          "metadata": {
            "tags": []
          }
        },
        {
          "output_type": "stream",
          "text": [
            "\n",
            "Training Acc. Diff 9.022223949432373\n",
            "Pruned Acc. Diff 15.388885140419006\n"
          ],
          "name": "stdout"
        }
      ]
    },
    {
      "cell_type": "code",
      "metadata": {
        "id": "TC0nSqBPIPPW",
        "colab_type": "code",
        "colab": {
          "base_uri": "https://localhost:8080/",
          "height": 1000
        },
        "outputId": "12e5b347-68b3-40e1-d07b-0575c037976a"
      },
      "source": [
        "for i in range(10, 100, 30):\n",
        "    on_pct_data(1, i/100)"
      ],
      "execution_count": 85,
      "outputs": [
        {
          "output_type": "stream",
          "text": [
            "No of data - 50000\n",
            "\n",
            " Percentage of Whole data 100% Test data 10.0% \n",
            "\n",
            "TRAINING ---\n",
            "Epoch 1/10\n",
            "1407/1407 [==============================] - 5s 3ms/step - loss: 1.5484 - accuracy: 0.4342 - val_loss: 1.2916 - val_accuracy: 0.5278\n",
            "Epoch 2/10\n",
            "1407/1407 [==============================] - 4s 3ms/step - loss: 1.1955 - accuracy: 0.5747 - val_loss: 1.1062 - val_accuracy: 0.6030\n",
            "Epoch 3/10\n",
            "1407/1407 [==============================] - 4s 3ms/step - loss: 1.0429 - accuracy: 0.6314 - val_loss: 1.0337 - val_accuracy: 0.6350\n",
            "Epoch 4/10\n",
            "1407/1407 [==============================] - 4s 3ms/step - loss: 0.9397 - accuracy: 0.6705 - val_loss: 0.9614 - val_accuracy: 0.6690\n",
            "Epoch 5/10\n",
            "1407/1407 [==============================] - 4s 3ms/step - loss: 0.8644 - accuracy: 0.6952 - val_loss: 0.9448 - val_accuracy: 0.6710\n",
            "Epoch 6/10\n",
            "1407/1407 [==============================] - 4s 3ms/step - loss: 0.8060 - accuracy: 0.7172 - val_loss: 0.9069 - val_accuracy: 0.6902\n",
            "Epoch 7/10\n",
            "1407/1407 [==============================] - 4s 3ms/step - loss: 0.7579 - accuracy: 0.7335 - val_loss: 0.8797 - val_accuracy: 0.7020\n",
            "Epoch 8/10\n",
            "1407/1407 [==============================] - 4s 3ms/step - loss: 0.7131 - accuracy: 0.7492 - val_loss: 0.8692 - val_accuracy: 0.7020\n",
            "Epoch 9/10\n",
            "1407/1407 [==============================] - 5s 3ms/step - loss: 0.6661 - accuracy: 0.7628 - val_loss: 0.8444 - val_accuracy: 0.7184\n",
            "Epoch 10/10\n",
            "1407/1407 [==============================] - 5s 3ms/step - loss: 0.6277 - accuracy: 0.7787 - val_loss: 0.8886 - val_accuracy: 0.7082\n",
            "PRUNING ---\n",
            "Epoch 1/3\n",
            "352/352 [==============================] - 3s 9ms/step - loss: 16.6355 - accuracy: 0.3777 - val_loss: 2.3362 - val_accuracy: 0.0997\n",
            "Epoch 2/3\n",
            "352/352 [==============================] - 3s 9ms/step - loss: 2.3026 - accuracy: 0.1159 - val_loss: 2.3426 - val_accuracy: 0.1290\n",
            "Epoch 3/3\n",
            "352/352 [==============================] - 3s 9ms/step - loss: 2.3073 - accuracy: 0.1150 - val_loss: 2.3089 - val_accuracy: 0.1001\n",
            "\n"
          ],
          "name": "stdout"
        },
        {
          "output_type": "display_data",
          "data": {
            "application/vnd.google.colaboratory.intrinsic": {
              "type": "string"
            },
            "text/plain": [
              "'Trained'"
            ]
          },
          "metadata": {
            "tags": []
          }
        },
        {
          "output_type": "display_data",
          "data": {
            "text/html": [
              "<div>\n",
              "<style scoped>\n",
              "    .dataframe tbody tr th:only-of-type {\n",
              "        vertical-align: middle;\n",
              "    }\n",
              "\n",
              "    .dataframe tbody tr th {\n",
              "        vertical-align: top;\n",
              "    }\n",
              "\n",
              "    .dataframe thead th {\n",
              "        text-align: right;\n",
              "    }\n",
              "</style>\n",
              "<table border=\"1\" class=\"dataframe\">\n",
              "  <thead>\n",
              "    <tr style=\"text-align: right;\">\n",
              "      <th></th>\n",
              "      <th>accuracy</th>\n",
              "      <th>loss</th>\n",
              "      <th>percentage</th>\n",
              "      <th>val_accuracy</th>\n",
              "      <th>val_loss</th>\n",
              "      <th>epochs</th>\n",
              "      <th>pct_data</th>\n",
              "      <th>pct_test</th>\n",
              "    </tr>\n",
              "  </thead>\n",
              "  <tbody>\n",
              "    <tr>\n",
              "      <th>0</th>\n",
              "      <td>0.778667</td>\n",
              "      <td>0.627731</td>\n",
              "      <td>0.9</td>\n",
              "      <td>0.7082</td>\n",
              "      <td>0.888582</td>\n",
              "      <td>10</td>\n",
              "      <td>1</td>\n",
              "      <td>0.1</td>\n",
              "    </tr>\n",
              "  </tbody>\n",
              "</table>\n",
              "</div>"
            ],
            "text/plain": [
              "   accuracy      loss  percentage  ...  epochs  pct_data  pct_test\n",
              "0  0.778667  0.627731         0.9  ...      10         1       0.1\n",
              "\n",
              "[1 rows x 8 columns]"
            ]
          },
          "metadata": {
            "tags": []
          }
        },
        {
          "output_type": "display_data",
          "data": {
            "application/vnd.google.colaboratory.intrinsic": {
              "type": "string"
            },
            "text/plain": [
              "'Pruned'"
            ]
          },
          "metadata": {
            "tags": []
          }
        },
        {
          "output_type": "display_data",
          "data": {
            "text/html": [
              "<div>\n",
              "<style scoped>\n",
              "    .dataframe tbody tr th:only-of-type {\n",
              "        vertical-align: middle;\n",
              "    }\n",
              "\n",
              "    .dataframe tbody tr th {\n",
              "        vertical-align: top;\n",
              "    }\n",
              "\n",
              "    .dataframe thead th {\n",
              "        text-align: right;\n",
              "    }\n",
              "</style>\n",
              "<table border=\"1\" class=\"dataframe\">\n",
              "  <thead>\n",
              "    <tr style=\"text-align: right;\">\n",
              "      <th></th>\n",
              "      <th>accuracy</th>\n",
              "      <th>loss</th>\n",
              "      <th>percentage</th>\n",
              "      <th>val_accuracy</th>\n",
              "      <th>val_loss</th>\n",
              "      <th>epochs</th>\n",
              "      <th>pct_data</th>\n",
              "      <th>pct_test</th>\n",
              "    </tr>\n",
              "  </thead>\n",
              "  <tbody>\n",
              "    <tr>\n",
              "      <th>0</th>\n",
              "      <td>0.115</td>\n",
              "      <td>2.307281</td>\n",
              "      <td>0.9</td>\n",
              "      <td>0.1001</td>\n",
              "      <td>2.308947</td>\n",
              "      <td>3</td>\n",
              "      <td>1</td>\n",
              "      <td>0.1</td>\n",
              "    </tr>\n",
              "  </tbody>\n",
              "</table>\n",
              "</div>"
            ],
            "text/plain": [
              "   accuracy      loss  percentage  ...  epochs  pct_data  pct_test\n",
              "0     0.115  2.307281         0.9  ...       3         1       0.1\n",
              "\n",
              "[1 rows x 8 columns]"
            ]
          },
          "metadata": {
            "tags": []
          }
        },
        {
          "output_type": "stream",
          "text": [
            "\n",
            "Training Acc. Diff 7.0466697216033936\n",
            "Pruned Acc. Diff 1.4899998903274536\n",
            "No of data - 50000\n",
            "\n",
            " Percentage of Whole data 100% Test data 40.0% \n",
            "\n",
            "TRAINING ---\n",
            "Epoch 1/10\n",
            "938/938 [==============================] - 4s 4ms/step - loss: 1.6457 - accuracy: 0.3971 - val_loss: 1.4018 - val_accuracy: 0.4893\n",
            "Epoch 2/10\n",
            "938/938 [==============================] - 4s 4ms/step - loss: 1.2978 - accuracy: 0.5339 - val_loss: 1.2395 - val_accuracy: 0.5591\n",
            "Epoch 3/10\n",
            "938/938 [==============================] - 4s 4ms/step - loss: 1.1395 - accuracy: 0.5969 - val_loss: 1.1957 - val_accuracy: 0.5738\n",
            "Epoch 4/10\n",
            "938/938 [==============================] - 4s 4ms/step - loss: 1.0433 - accuracy: 0.6324 - val_loss: 1.1851 - val_accuracy: 0.5903\n",
            "Epoch 5/10\n",
            "938/938 [==============================] - 4s 4ms/step - loss: 0.9515 - accuracy: 0.6660 - val_loss: 1.0184 - val_accuracy: 0.6465\n",
            "Epoch 6/10\n",
            "938/938 [==============================] - 4s 4ms/step - loss: 0.8839 - accuracy: 0.6885 - val_loss: 1.0373 - val_accuracy: 0.6431\n",
            "Epoch 7/10\n",
            "938/938 [==============================] - 4s 4ms/step - loss: 0.8286 - accuracy: 0.7071 - val_loss: 1.0196 - val_accuracy: 0.6493\n",
            "Epoch 8/10\n",
            "938/938 [==============================] - 4s 4ms/step - loss: 0.7709 - accuracy: 0.7278 - val_loss: 0.9890 - val_accuracy: 0.6647\n",
            "Epoch 9/10\n",
            "938/938 [==============================] - 4s 4ms/step - loss: 0.7222 - accuracy: 0.7473 - val_loss: 1.0161 - val_accuracy: 0.6616\n",
            "Epoch 10/10\n",
            "938/938 [==============================] - 4s 4ms/step - loss: 0.6694 - accuracy: 0.7663 - val_loss: 1.0159 - val_accuracy: 0.6673\n",
            "PRUNING ---\n",
            "Epoch 1/3\n",
            "235/235 [==============================] - 2s 10ms/step - loss: 32.5709 - accuracy: 0.5356 - val_loss: 5.9258 - val_accuracy: 0.2535\n",
            "Epoch 2/3\n",
            "235/235 [==============================] - 2s 9ms/step - loss: 2.8338 - accuracy: 0.1451 - val_loss: 2.3477 - val_accuracy: 0.1095\n",
            "Epoch 3/3\n",
            "235/235 [==============================] - 2s 9ms/step - loss: 2.3252 - accuracy: 0.1111 - val_loss: 2.3150 - val_accuracy: 0.1039\n",
            "\n"
          ],
          "name": "stdout"
        },
        {
          "output_type": "display_data",
          "data": {
            "application/vnd.google.colaboratory.intrinsic": {
              "type": "string"
            },
            "text/plain": [
              "'Trained'"
            ]
          },
          "metadata": {
            "tags": []
          }
        },
        {
          "output_type": "display_data",
          "data": {
            "text/html": [
              "<div>\n",
              "<style scoped>\n",
              "    .dataframe tbody tr th:only-of-type {\n",
              "        vertical-align: middle;\n",
              "    }\n",
              "\n",
              "    .dataframe tbody tr th {\n",
              "        vertical-align: top;\n",
              "    }\n",
              "\n",
              "    .dataframe thead th {\n",
              "        text-align: right;\n",
              "    }\n",
              "</style>\n",
              "<table border=\"1\" class=\"dataframe\">\n",
              "  <thead>\n",
              "    <tr style=\"text-align: right;\">\n",
              "      <th></th>\n",
              "      <th>accuracy</th>\n",
              "      <th>loss</th>\n",
              "      <th>percentage</th>\n",
              "      <th>val_accuracy</th>\n",
              "      <th>val_loss</th>\n",
              "      <th>epochs</th>\n",
              "      <th>pct_data</th>\n",
              "      <th>pct_test</th>\n",
              "    </tr>\n",
              "  </thead>\n",
              "  <tbody>\n",
              "    <tr>\n",
              "      <th>0</th>\n",
              "      <td>0.766333</td>\n",
              "      <td>0.669397</td>\n",
              "      <td>0.6</td>\n",
              "      <td>0.66735</td>\n",
              "      <td>1.015857</td>\n",
              "      <td>10</td>\n",
              "      <td>1</td>\n",
              "      <td>0.4</td>\n",
              "    </tr>\n",
              "  </tbody>\n",
              "</table>\n",
              "</div>"
            ],
            "text/plain": [
              "   accuracy      loss  percentage  ...  epochs  pct_data  pct_test\n",
              "0  0.766333  0.669397         0.6  ...      10         1       0.4\n",
              "\n",
              "[1 rows x 8 columns]"
            ]
          },
          "metadata": {
            "tags": []
          }
        },
        {
          "output_type": "display_data",
          "data": {
            "application/vnd.google.colaboratory.intrinsic": {
              "type": "string"
            },
            "text/plain": [
              "'Pruned'"
            ]
          },
          "metadata": {
            "tags": []
          }
        },
        {
          "output_type": "display_data",
          "data": {
            "text/html": [
              "<div>\n",
              "<style scoped>\n",
              "    .dataframe tbody tr th:only-of-type {\n",
              "        vertical-align: middle;\n",
              "    }\n",
              "\n",
              "    .dataframe tbody tr th {\n",
              "        vertical-align: top;\n",
              "    }\n",
              "\n",
              "    .dataframe thead th {\n",
              "        text-align: right;\n",
              "    }\n",
              "</style>\n",
              "<table border=\"1\" class=\"dataframe\">\n",
              "  <thead>\n",
              "    <tr style=\"text-align: right;\">\n",
              "      <th></th>\n",
              "      <th>accuracy</th>\n",
              "      <th>loss</th>\n",
              "      <th>percentage</th>\n",
              "      <th>val_accuracy</th>\n",
              "      <th>val_loss</th>\n",
              "      <th>epochs</th>\n",
              "      <th>pct_data</th>\n",
              "      <th>pct_test</th>\n",
              "    </tr>\n",
              "  </thead>\n",
              "  <tbody>\n",
              "    <tr>\n",
              "      <th>0</th>\n",
              "      <td>0.111067</td>\n",
              "      <td>2.325177</td>\n",
              "      <td>0.6</td>\n",
              "      <td>0.1039</td>\n",
              "      <td>2.314982</td>\n",
              "      <td>3</td>\n",
              "      <td>1</td>\n",
              "      <td>0.4</td>\n",
              "    </tr>\n",
              "  </tbody>\n",
              "</table>\n",
              "</div>"
            ],
            "text/plain": [
              "   accuracy      loss  percentage  ...  epochs  pct_data  pct_test\n",
              "0  0.111067  2.325177         0.6  ...       3         1       0.4\n",
              "\n",
              "[1 rows x 8 columns]"
            ]
          },
          "metadata": {
            "tags": []
          }
        },
        {
          "output_type": "stream",
          "text": [
            "\n",
            "Training Acc. Diff 9.898334741592407\n",
            "Pruned Acc. Diff 0.7166668772697449\n",
            "No of data - 50000\n",
            "\n",
            " Percentage of Whole data 100% Test data 70.0% \n",
            "\n",
            "TRAINING ---\n",
            "Epoch 1/10\n",
            "469/469 [==============================] - 4s 8ms/step - loss: 1.8616 - accuracy: 0.3052 - val_loss: 1.5345 - val_accuracy: 0.4378\n",
            "Epoch 2/10\n",
            "469/469 [==============================] - 4s 8ms/step - loss: 1.4763 - accuracy: 0.4575 - val_loss: 1.5487 - val_accuracy: 0.4435\n",
            "Epoch 3/10\n",
            "469/469 [==============================] - 4s 8ms/step - loss: 1.3122 - accuracy: 0.5254 - val_loss: 1.3655 - val_accuracy: 0.5080\n",
            "Epoch 4/10\n",
            "469/469 [==============================] - 4s 8ms/step - loss: 1.1938 - accuracy: 0.5743 - val_loss: 1.2778 - val_accuracy: 0.5462\n",
            "Epoch 5/10\n",
            "469/469 [==============================] - 4s 8ms/step - loss: 1.1082 - accuracy: 0.6037 - val_loss: 1.2426 - val_accuracy: 0.5568\n",
            "Epoch 6/10\n",
            "469/469 [==============================] - 4s 8ms/step - loss: 1.0400 - accuracy: 0.6289 - val_loss: 1.1481 - val_accuracy: 0.5954\n",
            "Epoch 7/10\n",
            "469/469 [==============================] - 4s 8ms/step - loss: 0.9721 - accuracy: 0.6565 - val_loss: 1.1264 - val_accuracy: 0.6108\n",
            "Epoch 8/10\n",
            "469/469 [==============================] - 4s 8ms/step - loss: 0.9142 - accuracy: 0.6739 - val_loss: 1.1477 - val_accuracy: 0.6016\n",
            "Epoch 9/10\n",
            "469/469 [==============================] - 4s 8ms/step - loss: 0.8546 - accuracy: 0.6969 - val_loss: 1.1190 - val_accuracy: 0.6130\n",
            "Epoch 10/10\n",
            "469/469 [==============================] - 4s 8ms/step - loss: 0.7903 - accuracy: 0.7203 - val_loss: 1.1189 - val_accuracy: 0.6206\n",
            "PRUNING ---\n",
            "Epoch 1/3\n",
            "118/118 [==============================] - 1s 12ms/step - loss: 35.9445 - accuracy: 0.5819 - val_loss: 13.3679 - val_accuracy: 0.2487\n",
            "Epoch 2/3\n",
            "118/118 [==============================] - 1s 10ms/step - loss: 3.7761 - accuracy: 0.1552 - val_loss: 2.3357 - val_accuracy: 0.0999\n",
            "Epoch 3/3\n",
            "118/118 [==============================] - 1s 10ms/step - loss: 2.3238 - accuracy: 0.0989 - val_loss: 2.3086 - val_accuracy: 0.1000\n",
            "\n"
          ],
          "name": "stdout"
        },
        {
          "output_type": "display_data",
          "data": {
            "application/vnd.google.colaboratory.intrinsic": {
              "type": "string"
            },
            "text/plain": [
              "'Trained'"
            ]
          },
          "metadata": {
            "tags": []
          }
        },
        {
          "output_type": "display_data",
          "data": {
            "text/html": [
              "<div>\n",
              "<style scoped>\n",
              "    .dataframe tbody tr th:only-of-type {\n",
              "        vertical-align: middle;\n",
              "    }\n",
              "\n",
              "    .dataframe tbody tr th {\n",
              "        vertical-align: top;\n",
              "    }\n",
              "\n",
              "    .dataframe thead th {\n",
              "        text-align: right;\n",
              "    }\n",
              "</style>\n",
              "<table border=\"1\" class=\"dataframe\">\n",
              "  <thead>\n",
              "    <tr style=\"text-align: right;\">\n",
              "      <th></th>\n",
              "      <th>accuracy</th>\n",
              "      <th>loss</th>\n",
              "      <th>percentage</th>\n",
              "      <th>val_accuracy</th>\n",
              "      <th>val_loss</th>\n",
              "      <th>epochs</th>\n",
              "      <th>pct_data</th>\n",
              "      <th>pct_test</th>\n",
              "    </tr>\n",
              "  </thead>\n",
              "  <tbody>\n",
              "    <tr>\n",
              "      <th>0</th>\n",
              "      <td>0.720267</td>\n",
              "      <td>0.79033</td>\n",
              "      <td>0.3</td>\n",
              "      <td>0.620629</td>\n",
              "      <td>1.118874</td>\n",
              "      <td>10</td>\n",
              "      <td>1</td>\n",
              "      <td>0.7</td>\n",
              "    </tr>\n",
              "  </tbody>\n",
              "</table>\n",
              "</div>"
            ],
            "text/plain": [
              "   accuracy     loss  percentage  ...  epochs  pct_data  pct_test\n",
              "0  0.720267  0.79033         0.3  ...      10         1       0.7\n",
              "\n",
              "[1 rows x 8 columns]"
            ]
          },
          "metadata": {
            "tags": []
          }
        },
        {
          "output_type": "display_data",
          "data": {
            "application/vnd.google.colaboratory.intrinsic": {
              "type": "string"
            },
            "text/plain": [
              "'Pruned'"
            ]
          },
          "metadata": {
            "tags": []
          }
        },
        {
          "output_type": "display_data",
          "data": {
            "text/html": [
              "<div>\n",
              "<style scoped>\n",
              "    .dataframe tbody tr th:only-of-type {\n",
              "        vertical-align: middle;\n",
              "    }\n",
              "\n",
              "    .dataframe tbody tr th {\n",
              "        vertical-align: top;\n",
              "    }\n",
              "\n",
              "    .dataframe thead th {\n",
              "        text-align: right;\n",
              "    }\n",
              "</style>\n",
              "<table border=\"1\" class=\"dataframe\">\n",
              "  <thead>\n",
              "    <tr style=\"text-align: right;\">\n",
              "      <th></th>\n",
              "      <th>accuracy</th>\n",
              "      <th>loss</th>\n",
              "      <th>percentage</th>\n",
              "      <th>val_accuracy</th>\n",
              "      <th>val_loss</th>\n",
              "      <th>epochs</th>\n",
              "      <th>pct_data</th>\n",
              "      <th>pct_test</th>\n",
              "    </tr>\n",
              "  </thead>\n",
              "  <tbody>\n",
              "    <tr>\n",
              "      <th>0</th>\n",
              "      <td>0.098933</td>\n",
              "      <td>2.323755</td>\n",
              "      <td>0.3</td>\n",
              "      <td>0.1</td>\n",
              "      <td>2.308626</td>\n",
              "      <td>3</td>\n",
              "      <td>1</td>\n",
              "      <td>0.7</td>\n",
              "    </tr>\n",
              "  </tbody>\n",
              "</table>\n",
              "</div>"
            ],
            "text/plain": [
              "   accuracy      loss  percentage  ...  epochs  pct_data  pct_test\n",
              "0  0.098933  2.323755         0.3  ...       3         1       0.7\n",
              "\n",
              "[1 rows x 8 columns]"
            ]
          },
          "metadata": {
            "tags": []
          }
        },
        {
          "output_type": "stream",
          "text": [
            "\n",
            "Training Acc. Diff 9.963804483413696\n",
            "Pruned Acc. Diff -0.10666698217391968\n"
          ],
          "name": "stdout"
        }
      ]
    },
    {
      "cell_type": "code",
      "metadata": {
        "id": "-hUTQmNhIeMo",
        "colab_type": "code",
        "colab": {
          "base_uri": "https://localhost:8080/",
          "height": 394
        },
        "outputId": "10c4a592-e387-47e1-cb01-4a210a0bdd0c"
      },
      "source": [
        "dft"
      ],
      "execution_count": 86,
      "outputs": [
        {
          "output_type": "execute_result",
          "data": {
            "text/html": [
              "<div>\n",
              "<style scoped>\n",
              "    .dataframe tbody tr th:only-of-type {\n",
              "        vertical-align: middle;\n",
              "    }\n",
              "\n",
              "    .dataframe tbody tr th {\n",
              "        vertical-align: top;\n",
              "    }\n",
              "\n",
              "    .dataframe thead th {\n",
              "        text-align: right;\n",
              "    }\n",
              "</style>\n",
              "<table border=\"1\" class=\"dataframe\">\n",
              "  <thead>\n",
              "    <tr style=\"text-align: right;\">\n",
              "      <th></th>\n",
              "      <th>accuracy</th>\n",
              "      <th>loss</th>\n",
              "      <th>percentage</th>\n",
              "      <th>val_accuracy</th>\n",
              "      <th>val_loss</th>\n",
              "      <th>epochs</th>\n",
              "      <th>pct_data</th>\n",
              "      <th>pct_test</th>\n",
              "    </tr>\n",
              "  </thead>\n",
              "  <tbody>\n",
              "    <tr>\n",
              "      <th>0</th>\n",
              "      <td>0.588000</td>\n",
              "      <td>1.148828</td>\n",
              "      <td>0.5</td>\n",
              "      <td>0.494800</td>\n",
              "      <td>1.398556</td>\n",
              "      <td>10</td>\n",
              "      <td>0.1</td>\n",
              "      <td>0.5</td>\n",
              "    </tr>\n",
              "    <tr>\n",
              "      <th>1</th>\n",
              "      <td>0.689300</td>\n",
              "      <td>0.885093</td>\n",
              "      <td>0.5</td>\n",
              "      <td>0.593100</td>\n",
              "      <td>1.191358</td>\n",
              "      <td>10</td>\n",
              "      <td>0.4</td>\n",
              "      <td>0.5</td>\n",
              "    </tr>\n",
              "    <tr>\n",
              "      <th>2</th>\n",
              "      <td>0.753400</td>\n",
              "      <td>0.697526</td>\n",
              "      <td>0.5</td>\n",
              "      <td>0.651350</td>\n",
              "      <td>1.040999</td>\n",
              "      <td>10</td>\n",
              "      <td>0.8</td>\n",
              "      <td>0.5</td>\n",
              "    </tr>\n",
              "    <tr>\n",
              "      <th>3</th>\n",
              "      <td>0.762320</td>\n",
              "      <td>0.667134</td>\n",
              "      <td>0.5</td>\n",
              "      <td>0.638680</td>\n",
              "      <td>1.115362</td>\n",
              "      <td>10</td>\n",
              "      <td>1.0</td>\n",
              "      <td>0.5</td>\n",
              "    </tr>\n",
              "    <tr>\n",
              "      <th>4</th>\n",
              "      <td>0.390000</td>\n",
              "      <td>1.670102</td>\n",
              "      <td>0.1</td>\n",
              "      <td>0.333111</td>\n",
              "      <td>1.862452</td>\n",
              "      <td>10</td>\n",
              "      <td>0.1</td>\n",
              "      <td>0.9</td>\n",
              "    </tr>\n",
              "    <tr>\n",
              "      <th>5</th>\n",
              "      <td>0.571500</td>\n",
              "      <td>1.197270</td>\n",
              "      <td>0.4</td>\n",
              "      <td>0.465667</td>\n",
              "      <td>1.477077</td>\n",
              "      <td>10</td>\n",
              "      <td>0.1</td>\n",
              "      <td>0.6</td>\n",
              "    </tr>\n",
              "    <tr>\n",
              "      <th>6</th>\n",
              "      <td>0.628857</td>\n",
              "      <td>1.046791</td>\n",
              "      <td>0.7</td>\n",
              "      <td>0.486000</td>\n",
              "      <td>1.519135</td>\n",
              "      <td>10</td>\n",
              "      <td>0.1</td>\n",
              "      <td>0.3</td>\n",
              "    </tr>\n",
              "    <tr>\n",
              "      <th>7</th>\n",
              "      <td>0.604222</td>\n",
              "      <td>1.120500</td>\n",
              "      <td>0.9</td>\n",
              "      <td>0.514000</td>\n",
              "      <td>1.304809</td>\n",
              "      <td>10</td>\n",
              "      <td>0.1</td>\n",
              "      <td>0.1</td>\n",
              "    </tr>\n",
              "    <tr>\n",
              "      <th>8</th>\n",
              "      <td>0.778667</td>\n",
              "      <td>0.627731</td>\n",
              "      <td>0.9</td>\n",
              "      <td>0.708200</td>\n",
              "      <td>0.888582</td>\n",
              "      <td>10</td>\n",
              "      <td>1.0</td>\n",
              "      <td>0.1</td>\n",
              "    </tr>\n",
              "    <tr>\n",
              "      <th>9</th>\n",
              "      <td>0.766333</td>\n",
              "      <td>0.669397</td>\n",
              "      <td>0.6</td>\n",
              "      <td>0.667350</td>\n",
              "      <td>1.015857</td>\n",
              "      <td>10</td>\n",
              "      <td>1.0</td>\n",
              "      <td>0.4</td>\n",
              "    </tr>\n",
              "    <tr>\n",
              "      <th>10</th>\n",
              "      <td>0.720267</td>\n",
              "      <td>0.790330</td>\n",
              "      <td>0.3</td>\n",
              "      <td>0.620629</td>\n",
              "      <td>1.118874</td>\n",
              "      <td>10</td>\n",
              "      <td>1.0</td>\n",
              "      <td>0.7</td>\n",
              "    </tr>\n",
              "  </tbody>\n",
              "</table>\n",
              "</div>"
            ],
            "text/plain": [
              "    accuracy      loss  percentage  ...  epochs  pct_data  pct_test\n",
              "0   0.588000  1.148828         0.5  ...      10       0.1       0.5\n",
              "1   0.689300  0.885093         0.5  ...      10       0.4       0.5\n",
              "2   0.753400  0.697526         0.5  ...      10       0.8       0.5\n",
              "3   0.762320  0.667134         0.5  ...      10       1.0       0.5\n",
              "4   0.390000  1.670102         0.1  ...      10       0.1       0.9\n",
              "5   0.571500  1.197270         0.4  ...      10       0.1       0.6\n",
              "6   0.628857  1.046791         0.7  ...      10       0.1       0.3\n",
              "7   0.604222  1.120500         0.9  ...      10       0.1       0.1\n",
              "8   0.778667  0.627731         0.9  ...      10       1.0       0.1\n",
              "9   0.766333  0.669397         0.6  ...      10       1.0       0.4\n",
              "10  0.720267  0.790330         0.3  ...      10       1.0       0.7\n",
              "\n",
              "[11 rows x 8 columns]"
            ]
          },
          "metadata": {
            "tags": []
          },
          "execution_count": 86
        }
      ]
    },
    {
      "cell_type": "code",
      "metadata": {
        "id": "LTi8c8QhJJ4S",
        "colab_type": "code",
        "colab": {
          "base_uri": "https://localhost:8080/",
          "height": 394
        },
        "outputId": "6f52b355-a50d-4250-81c7-2b10d8d03619"
      },
      "source": [
        "dfp"
      ],
      "execution_count": 87,
      "outputs": [
        {
          "output_type": "execute_result",
          "data": {
            "text/html": [
              "<div>\n",
              "<style scoped>\n",
              "    .dataframe tbody tr th:only-of-type {\n",
              "        vertical-align: middle;\n",
              "    }\n",
              "\n",
              "    .dataframe tbody tr th {\n",
              "        vertical-align: top;\n",
              "    }\n",
              "\n",
              "    .dataframe thead th {\n",
              "        text-align: right;\n",
              "    }\n",
              "</style>\n",
              "<table border=\"1\" class=\"dataframe\">\n",
              "  <thead>\n",
              "    <tr style=\"text-align: right;\">\n",
              "      <th></th>\n",
              "      <th>accuracy</th>\n",
              "      <th>loss</th>\n",
              "      <th>percentage</th>\n",
              "      <th>val_accuracy</th>\n",
              "      <th>val_loss</th>\n",
              "      <th>epochs</th>\n",
              "      <th>pct_data</th>\n",
              "      <th>pct_test</th>\n",
              "    </tr>\n",
              "  </thead>\n",
              "  <tbody>\n",
              "    <tr>\n",
              "      <th>0</th>\n",
              "      <td>0.585200</td>\n",
              "      <td>12.945297</td>\n",
              "      <td>0.5</td>\n",
              "      <td>0.4112</td>\n",
              "      <td>19.885075</td>\n",
              "      <td>3</td>\n",
              "      <td>0.1</td>\n",
              "      <td>0.5</td>\n",
              "    </tr>\n",
              "    <tr>\n",
              "      <th>1</th>\n",
              "      <td>0.219500</td>\n",
              "      <td>3.097613</td>\n",
              "      <td>0.5</td>\n",
              "      <td>0.1292</td>\n",
              "      <td>2.382054</td>\n",
              "      <td>3</td>\n",
              "      <td>0.4</td>\n",
              "      <td>0.5</td>\n",
              "    </tr>\n",
              "    <tr>\n",
              "      <th>2</th>\n",
              "      <td>0.103700</td>\n",
              "      <td>2.330379</td>\n",
              "      <td>0.5</td>\n",
              "      <td>0.1063</td>\n",
              "      <td>2.318101</td>\n",
              "      <td>3</td>\n",
              "      <td>0.8</td>\n",
              "      <td>0.5</td>\n",
              "    </tr>\n",
              "    <tr>\n",
              "      <th>3</th>\n",
              "      <td>0.105960</td>\n",
              "      <td>2.312976</td>\n",
              "      <td>0.5</td>\n",
              "      <td>0.1092</td>\n",
              "      <td>2.312580</td>\n",
              "      <td>3</td>\n",
              "      <td>1.0</td>\n",
              "      <td>0.5</td>\n",
              "    </tr>\n",
              "    <tr>\n",
              "      <th>4</th>\n",
              "      <td>0.476000</td>\n",
              "      <td>38.303448</td>\n",
              "      <td>0.1</td>\n",
              "      <td>0.2980</td>\n",
              "      <td>53.598587</td>\n",
              "      <td>3</td>\n",
              "      <td>0.1</td>\n",
              "      <td>0.9</td>\n",
              "    </tr>\n",
              "    <tr>\n",
              "      <th>5</th>\n",
              "      <td>0.561000</td>\n",
              "      <td>12.313752</td>\n",
              "      <td>0.4</td>\n",
              "      <td>0.3944</td>\n",
              "      <td>20.094696</td>\n",
              "      <td>3</td>\n",
              "      <td>0.1</td>\n",
              "      <td>0.6</td>\n",
              "    </tr>\n",
              "    <tr>\n",
              "      <th>6</th>\n",
              "      <td>0.636571</td>\n",
              "      <td>15.862948</td>\n",
              "      <td>0.7</td>\n",
              "      <td>0.4712</td>\n",
              "      <td>29.236944</td>\n",
              "      <td>3</td>\n",
              "      <td>0.1</td>\n",
              "      <td>0.3</td>\n",
              "    </tr>\n",
              "    <tr>\n",
              "      <th>7</th>\n",
              "      <td>0.576889</td>\n",
              "      <td>10.227122</td>\n",
              "      <td>0.9</td>\n",
              "      <td>0.4230</td>\n",
              "      <td>13.741801</td>\n",
              "      <td>3</td>\n",
              "      <td>0.1</td>\n",
              "      <td>0.1</td>\n",
              "    </tr>\n",
              "    <tr>\n",
              "      <th>8</th>\n",
              "      <td>0.115000</td>\n",
              "      <td>2.307281</td>\n",
              "      <td>0.9</td>\n",
              "      <td>0.1001</td>\n",
              "      <td>2.308947</td>\n",
              "      <td>3</td>\n",
              "      <td>1.0</td>\n",
              "      <td>0.1</td>\n",
              "    </tr>\n",
              "    <tr>\n",
              "      <th>9</th>\n",
              "      <td>0.111067</td>\n",
              "      <td>2.325177</td>\n",
              "      <td>0.6</td>\n",
              "      <td>0.1039</td>\n",
              "      <td>2.314982</td>\n",
              "      <td>3</td>\n",
              "      <td>1.0</td>\n",
              "      <td>0.4</td>\n",
              "    </tr>\n",
              "    <tr>\n",
              "      <th>10</th>\n",
              "      <td>0.098933</td>\n",
              "      <td>2.323755</td>\n",
              "      <td>0.3</td>\n",
              "      <td>0.1000</td>\n",
              "      <td>2.308626</td>\n",
              "      <td>3</td>\n",
              "      <td>1.0</td>\n",
              "      <td>0.7</td>\n",
              "    </tr>\n",
              "  </tbody>\n",
              "</table>\n",
              "</div>"
            ],
            "text/plain": [
              "    accuracy       loss  percentage  ...  epochs  pct_data  pct_test\n",
              "0   0.585200  12.945297         0.5  ...       3       0.1       0.5\n",
              "1   0.219500   3.097613         0.5  ...       3       0.4       0.5\n",
              "2   0.103700   2.330379         0.5  ...       3       0.8       0.5\n",
              "3   0.105960   2.312976         0.5  ...       3       1.0       0.5\n",
              "4   0.476000  38.303448         0.1  ...       3       0.1       0.9\n",
              "5   0.561000  12.313752         0.4  ...       3       0.1       0.6\n",
              "6   0.636571  15.862948         0.7  ...       3       0.1       0.3\n",
              "7   0.576889  10.227122         0.9  ...       3       0.1       0.1\n",
              "8   0.115000   2.307281         0.9  ...       3       1.0       0.1\n",
              "9   0.111067   2.325177         0.6  ...       3       1.0       0.4\n",
              "10  0.098933   2.323755         0.3  ...       3       1.0       0.7\n",
              "\n",
              "[11 rows x 8 columns]"
            ]
          },
          "metadata": {
            "tags": []
          },
          "execution_count": 87
        }
      ]
    },
    {
      "cell_type": "code",
      "metadata": {
        "id": "8kIQzuOwJQdV",
        "colab_type": "code",
        "colab": {}
      },
      "source": [
        ""
      ],
      "execution_count": null,
      "outputs": []
    }
  ]
}