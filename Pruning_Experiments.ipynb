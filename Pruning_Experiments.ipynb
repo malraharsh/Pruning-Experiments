{
  "nbformat": 4,
  "nbformat_minor": 0,
  "metadata": {
    "accelerator": "GPU",
    "colab": {
      "name": "Pruning Experiments",
      "provenance": [],
      "collapsed_sections": [],
      "include_colab_link": true
    },
    "kernelspec": {
      "display_name": "Python 3",
      "name": "python3"
    }
  },
  "cells": [
    {
      "cell_type": "markdown",
      "metadata": {
        "id": "view-in-github",
        "colab_type": "text"
      },
      "source": [
        "<a href=\"https://colab.research.google.com/github/malraharsh/Pruning-Experiments/blob/master/Pruning_Experiments.ipynb\" target=\"_parent\"><img src=\"https://colab.research.google.com/assets/colab-badge.svg\" alt=\"Open In Colab\"/></a>"
      ]
    },
    {
      "cell_type": "code",
      "metadata": {
        "colab_type": "code",
        "id": "zN4yVFK5-0Bf",
        "colab": {}
      },
      "source": [
        "! pip install -q tensorflow-model-optimization"
      ],
      "execution_count": null,
      "outputs": []
    },
    {
      "cell_type": "code",
      "metadata": {
        "colab_type": "code",
        "id": "yJwIonXEVJo6",
        "colab": {}
      },
      "source": [
        "import tempfile\n",
        "import os\n",
        "\n",
        "import tensorflow as tf\n",
        "import numpy as np\n",
        "\n",
        "from sklearn.model_selection import train_test_split\n",
        "import pandas as pd\n",
        "\n",
        "from tensorflow import keras\n",
        "\n",
        "# %load_ext tensorboard\n",
        "\n",
        "# os.mkdir('log')\n",
        "\n",
        "import tensorflow_model_optimization as tfmot\n",
        "\n",
        "\n",
        "from IPython.display import display\n",
        "\n",
        "prune_low_magnitude = tfmot.sparsity.keras.prune_low_magnitude"
      ],
      "execution_count": null,
      "outputs": []
    },
    {
      "cell_type": "code",
      "metadata": {
        "id": "Cyz7BwCxbzCI",
        "colab_type": "code",
        "colab": {}
      },
      "source": [
        "SHOW = False"
      ],
      "execution_count": 3,
      "outputs": []
    },
    {
      "cell_type": "code",
      "metadata": {
        "colab_type": "code",
        "id": "pbY-KGMPvbW9",
        "colab": {}
      },
      "source": [
        "# Load MNIST dataset\n",
        "mnist = keras.datasets.mnist\n",
        "(Train_images, Train_labels), (Test_images, Test_labels) = mnist.load_data()\n",
        "\n",
        "# pct_data = 0.1\n",
        "# top = int(np.ceil(Train_images.shape[0] * pct_data))\n",
        "\n",
        "# (train_images, train_labels), (test_images, test_labels) = (Train_images[:top], Train_labels[:top]), (Test_images[:top], Test_labels[:top])\n",
        "# print(top)"
      ],
      "execution_count": null,
      "outputs": []
    },
    {
      "cell_type": "code",
      "metadata": {
        "id": "Wsf6QDBAAIa2",
        "colab_type": "code",
        "colab": {}
      },
      "source": [
        "train_images = train_labels = test_images = test_labels = None\n",
        "\n",
        "def change_pct_data(pct_data):    \n",
        "    global train_images, train_labels, test_images, test_labels    \n",
        "    top = int(np.ceil(Train_images.shape[0] * pct_data))\n",
        "    (train_images, train_labels), (test_images, test_labels) = (Train_images[:top], Train_labels[:top]), (Test_images[:top], Test_labels[:top])\n",
        "    print(f\"No of data - {top}\")"
      ],
      "execution_count": 17,
      "outputs": []
    },
    {
      "cell_type": "code",
      "metadata": {
        "id": "lB25l8eRC6oH",
        "colab_type": "code",
        "colab": {}
      },
      "source": [
        "def train(train_images, train_labels, test_images, test_labels):\n",
        "\n",
        "    # Normalize the input image so that each pixel value is between 0 to 1.\n",
        "    train_images = train_images.copy() / 255.0 #!!!!! CAN REOMVE COPY\n",
        "    test_images = test_images.copy() / 255.0\n",
        "\n",
        "    # Define the model architecture.\n",
        "    model = keras.Sequential([\n",
        "    keras.layers.InputLayer(input_shape=(28, 28)),\n",
        "    keras.layers.Reshape(target_shape=(28, 28, 1)),\n",
        "    keras.layers.Conv2D(filters=12, kernel_size=(3, 3), activation='relu'),\n",
        "    keras.layers.MaxPooling2D(pool_size=(2, 2)),\n",
        "    keras.layers.Flatten(),\n",
        "    keras.layers.Dense(10)\n",
        "    ])\n",
        "\n",
        "    # Train the digit classification model\n",
        "    model.compile(optimizer='adam',\n",
        "                loss=tf.keras.losses.SparseCategoricalCrossentropy(from_logits=True),\n",
        "                metrics=['accuracy'])\n",
        "\n",
        "    history = model.fit(\n",
        "    train_images,\n",
        "    train_labels,\n",
        "    epochs=EPOCHS,\n",
        "    validation_split=0.1,\n",
        "    verbose=1\n",
        "    )\n",
        "\n",
        "    test_loss, test_accuracy = model.evaluate(test_images, test_labels, verbose=0)\n",
        "    history.history['test_loss'] = [test_loss]\n",
        "    history.history['test_accuracy'] = [test_accuracy]\n",
        "\n",
        "    if SHOW:\n",
        "        # _, baseline_train_accuracy = model.evaluate(\n",
        "        # train_images, train_labels, verbose=0)\n",
        "\n",
        "        # print('Baseline train accuracy:', baseline_train_accuracy*100)\n",
        "\n",
        "        print('Baseline test accuracy:', baseline_test_accuracy*100)\n",
        "\n",
        "        # print('Baseline difference:', (baseline_train_accuracy - baseline_test_accuracy)*100)\n",
        "\n",
        "    return model, history.history\n",
        "    \n",
        "\n",
        "def prune(train_images, train_labels, model):\n",
        "\n",
        "    # Compute end step to finish pruning after 2 epochs.\n",
        "    batch_size = 128\n",
        "    epochs = EPOCHS_PRUNE\n",
        "    validation_split = 0.1 # 10% of training set will be used for validation set. \n",
        "\n",
        "    num_images = train_images.shape[0] * (1 - validation_split)\n",
        "    end_step = np.ceil(num_images / batch_size).astype(np.int32) * epochs\n",
        "\n",
        "    # Define model for pruning.\n",
        "    pruning_params = {\n",
        "          'pruning_schedule': tfmot.sparsity.keras.PolynomialDecay(initial_sparsity=0.50,\n",
        "                                                                   final_sparsity=0.80,\n",
        "                                                                   begin_step=0,\n",
        "                                                                   end_step=end_step)\n",
        "    }\n",
        "\n",
        "    model_for_pruning = prune_low_magnitude(model, **pruning_params)\n",
        "\n",
        "    # `prune_low_magnitude` requires a recompile.\n",
        "    model_for_pruning.compile(optimizer='adam',\n",
        "                  loss=tf.keras.losses.SparseCategoricalCrossentropy(from_logits=True),\n",
        "                  metrics=['accuracy'])\n",
        "\n",
        "    # model_for_pruning.summary()\n",
        "\n",
        "    callbacks = [\n",
        "      tfmot.sparsity.keras.UpdatePruningStep(),\n",
        "    #   tfmot.sparsity.keras.PruningSummaries(log_dir=logdir),\n",
        "    ]\n",
        "\n",
        "    history = model_for_pruning.fit(train_images, train_labels,\n",
        "                      batch_size=batch_size, epochs=epochs, validation_split=validation_split,\n",
        "                      callbacks=callbacks)\n",
        "    \n",
        "    test_loss, test_accuracy = model_for_pruning.evaluate(test_images, test_labels, verbose=0)\n",
        "    history.history['test_loss'] = [test_loss]\n",
        "    history.history['test_accuracy'] = [test_accuracy]\n",
        "\n",
        "    if SHOW:\n",
        "        print('Pruned test accuracy:', model_for_pruning_accuracy)\n",
        "\n",
        "    return model_for_pruning, history.history"
      ],
      "execution_count": null,
      "outputs": []
    },
    {
      "cell_type": "code",
      "metadata": {
        "id": "8isH01mTSZ0z",
        "colab_type": "code",
        "colab": {}
      },
      "source": [
        ""
      ],
      "execution_count": 56,
      "outputs": []
    },
    {
      "cell_type": "code",
      "metadata": {
        "id": "AIyrGM-rBkkn",
        "colab_type": "code",
        "colab": {}
      },
      "source": [
        "def do_train(test_pct):\n",
        "    train_x, val_x, train_y, val_y = train_test_split(train_images, train_labels, test_size=test_pct, stratify=train_labels)\n",
        "    \n",
        "    print(\"TRAINING ---\")\n",
        "    model, info_train = train(train_x, train_y, val_x, val_y)\n",
        "    \n",
        "    print(\"PRUNING ---\")\n",
        "    _, info_prune = prune(train_x, train_y, model)\n",
        "    \n",
        "    return info_train, info_prune"
      ],
      "execution_count": null,
      "outputs": []
    },
    {
      "cell_type": "code",
      "metadata": {
        "id": "6RtTs_t9Bkfd",
        "colab_type": "code",
        "colab": {}
      },
      "source": [
        "def add_info(dic, pct, info):\n",
        "    # print(list(dic.items()), '----')\n",
        "    dic = {k:v[-1] for k, v in dic.items()}\n",
        "    dic['percentage'] = pct\n",
        "    return info.append(dic, ignore_index=True)   \n",
        "\n",
        "def save(df, name, pct_data):\n",
        "    df.to_csv(f'log/info-{name}-{pct_data*100}%.csv')\n",
        "\n",
        "def full_pct_data(pct_data): #pct of full data\n",
        "    change_pct_data(pct_data) \n",
        "    df_info_train = pd.DataFrame()\n",
        "    df_info_prune = pd.DataFrame()\n",
        "\n",
        "    for p in range(10, 99, 90):\n",
        "        print(f'\\n Percentage is {pct_data} \\n')\n",
        "\n",
        "        test_p = 1 - p/100\n",
        "        info_train, info_prune = do_train(test_p)\n",
        "        z = info_train\n",
        "\n",
        "        df_info_train = add_info(info_train, 1 - test_p, df_info_train)\n",
        "        df_info_prune = add_info(info_prune, 1 - test_p, df_info_prune)\n",
        "\n",
        "    save(df_info_train, 'train', pct_data)\n",
        "    save(df_info_prune, 'prune', pct_data)\n",
        "\n",
        "    # df_info.plot.scatter(x='percentage', y='accuracy')\n",
        "    return df_info_train, df_info_prune    "
      ],
      "execution_count": null,
      "outputs": []
    },
    {
      "cell_type": "code",
      "metadata": {
        "id": "rm-3NVYrdG2J",
        "colab_type": "code",
        "colab": {}
      },
      "source": [
        "def on_pct_data(p):\n",
        "    x, y = full_pct_data(p)\n",
        "\n",
        "    print()\n",
        "    display('Trained', x)\n",
        "    print(x.accuracy - x.test_accuracy)\n",
        "    display('Pruned', y)\n",
        "    print(y.accuracy - y.test_accuracy)\n",
        "    # display('Difference', x - y)"
      ],
      "execution_count": 148,
      "outputs": []
    },
    {
      "cell_type": "code",
      "metadata": {
        "id": "DHk9KHa6DNeB",
        "colab_type": "code",
        "colab": {
          "base_uri": "https://localhost:8080/",
          "height": 1000
        },
        "outputId": "fb0d124c-4d45-48c0-e952-a023f95c39c2"
      },
      "source": [
        "EPOCHS = 20\n",
        "EPOCHS_PRUNE = 1\n",
        "\n",
        "on_pct_data(0.1)"
      ],
      "execution_count": 152,
      "outputs": [
        {
          "output_type": "stream",
          "text": [
            "No of data - 6000\n",
            "\n",
            " Percentage is 0.1 \n",
            "\n",
            "TRAINING ---\n",
            "Epoch 1/20\n",
            "17/17 [==============================] - 0s 11ms/step - loss: 2.1370 - accuracy: 0.3037 - val_loss: 1.9339 - val_accuracy: 0.5833\n",
            "Epoch 2/20\n",
            "17/17 [==============================] - 0s 5ms/step - loss: 1.6691 - accuracy: 0.7093 - val_loss: 1.3917 - val_accuracy: 0.8167\n",
            "Epoch 3/20\n",
            "17/17 [==============================] - 0s 6ms/step - loss: 1.1528 - accuracy: 0.8037 - val_loss: 0.9289 - val_accuracy: 0.8333\n",
            "Epoch 4/20\n",
            "17/17 [==============================] - 0s 6ms/step - loss: 0.7811 - accuracy: 0.8296 - val_loss: 0.6610 - val_accuracy: 0.8500\n",
            "Epoch 5/20\n",
            "17/17 [==============================] - 0s 6ms/step - loss: 0.5596 - accuracy: 0.8704 - val_loss: 0.5209 - val_accuracy: 0.8833\n",
            "Epoch 6/20\n",
            "17/17 [==============================] - 0s 5ms/step - loss: 0.4432 - accuracy: 0.9000 - val_loss: 0.4446 - val_accuracy: 0.8667\n",
            "Epoch 7/20\n",
            "17/17 [==============================] - 0s 5ms/step - loss: 0.3664 - accuracy: 0.9167 - val_loss: 0.4198 - val_accuracy: 0.9167\n",
            "Epoch 8/20\n",
            "17/17 [==============================] - 0s 6ms/step - loss: 0.3114 - accuracy: 0.9259 - val_loss: 0.3847 - val_accuracy: 0.8833\n",
            "Epoch 9/20\n",
            "17/17 [==============================] - 0s 5ms/step - loss: 0.2698 - accuracy: 0.9370 - val_loss: 0.3569 - val_accuracy: 0.9167\n",
            "Epoch 10/20\n",
            "17/17 [==============================] - 0s 5ms/step - loss: 0.2386 - accuracy: 0.9407 - val_loss: 0.3451 - val_accuracy: 0.9167\n",
            "Epoch 11/20\n",
            "17/17 [==============================] - 0s 5ms/step - loss: 0.2128 - accuracy: 0.9481 - val_loss: 0.3271 - val_accuracy: 0.9333\n",
            "Epoch 12/20\n",
            "17/17 [==============================] - 0s 5ms/step - loss: 0.1922 - accuracy: 0.9593 - val_loss: 0.3227 - val_accuracy: 0.9167\n",
            "Epoch 13/20\n",
            "17/17 [==============================] - 0s 5ms/step - loss: 0.1677 - accuracy: 0.9611 - val_loss: 0.3020 - val_accuracy: 0.9167\n",
            "Epoch 14/20\n",
            "17/17 [==============================] - 0s 6ms/step - loss: 0.1477 - accuracy: 0.9704 - val_loss: 0.3123 - val_accuracy: 0.9167\n",
            "Epoch 15/20\n",
            "17/17 [==============================] - 0s 6ms/step - loss: 0.1330 - accuracy: 0.9741 - val_loss: 0.2997 - val_accuracy: 0.9167\n",
            "Epoch 16/20\n",
            "17/17 [==============================] - 0s 5ms/step - loss: 0.1187 - accuracy: 0.9833 - val_loss: 0.3002 - val_accuracy: 0.9167\n",
            "Epoch 17/20\n",
            "17/17 [==============================] - 0s 5ms/step - loss: 0.1081 - accuracy: 0.9833 - val_loss: 0.2971 - val_accuracy: 0.9000\n",
            "Epoch 18/20\n",
            "17/17 [==============================] - 0s 6ms/step - loss: 0.0975 - accuracy: 0.9889 - val_loss: 0.3020 - val_accuracy: 0.9000\n",
            "Epoch 19/20\n",
            "17/17 [==============================] - 0s 5ms/step - loss: 0.0867 - accuracy: 0.9907 - val_loss: 0.2875 - val_accuracy: 0.9167\n",
            "Epoch 20/20\n",
            "17/17 [==============================] - 0s 5ms/step - loss: 0.0820 - accuracy: 0.9889 - val_loss: 0.2784 - val_accuracy: 0.9000\n",
            "PRUNING ---\n",
            "5/5 [==============================] - 0s 42ms/step - loss: 3.1433 - accuracy: 0.9815 - val_loss: 37.2138 - val_accuracy: 0.8833\n",
            "\n"
          ],
          "name": "stdout"
        },
        {
          "output_type": "display_data",
          "data": {
            "application/vnd.google.colaboratory.intrinsic": {
              "type": "string"
            },
            "text/plain": [
              "'Trained'"
            ]
          },
          "metadata": {
            "tags": []
          }
        },
        {
          "output_type": "display_data",
          "data": {
            "text/html": [
              "<div>\n",
              "<style scoped>\n",
              "    .dataframe tbody tr th:only-of-type {\n",
              "        vertical-align: middle;\n",
              "    }\n",
              "\n",
              "    .dataframe tbody tr th {\n",
              "        vertical-align: top;\n",
              "    }\n",
              "\n",
              "    .dataframe thead th {\n",
              "        text-align: right;\n",
              "    }\n",
              "</style>\n",
              "<table border=\"1\" class=\"dataframe\">\n",
              "  <thead>\n",
              "    <tr style=\"text-align: right;\">\n",
              "      <th></th>\n",
              "      <th>accuracy</th>\n",
              "      <th>loss</th>\n",
              "      <th>percentage</th>\n",
              "      <th>test_accuracy</th>\n",
              "      <th>test_loss</th>\n",
              "      <th>val_accuracy</th>\n",
              "      <th>val_loss</th>\n",
              "    </tr>\n",
              "  </thead>\n",
              "  <tbody>\n",
              "    <tr>\n",
              "      <th>0</th>\n",
              "      <td>0.988889</td>\n",
              "      <td>0.081956</td>\n",
              "      <td>0.1</td>\n",
              "      <td>0.879074</td>\n",
              "      <td>0.426488</td>\n",
              "      <td>0.9</td>\n",
              "      <td>0.278398</td>\n",
              "    </tr>\n",
              "  </tbody>\n",
              "</table>\n",
              "</div>"
            ],
            "text/plain": [
              "   accuracy      loss  percentage  ...  test_loss  val_accuracy  val_loss\n",
              "0  0.988889  0.081956         0.1  ...   0.426488           0.9  0.278398\n",
              "\n",
              "[1 rows x 7 columns]"
            ]
          },
          "metadata": {
            "tags": []
          }
        },
        {
          "output_type": "stream",
          "text": [
            "0    0.109815\n",
            "dtype: float64\n"
          ],
          "name": "stdout"
        },
        {
          "output_type": "display_data",
          "data": {
            "application/vnd.google.colaboratory.intrinsic": {
              "type": "string"
            },
            "text/plain": [
              "'Pruned'"
            ]
          },
          "metadata": {
            "tags": []
          }
        },
        {
          "output_type": "display_data",
          "data": {
            "text/html": [
              "<div>\n",
              "<style scoped>\n",
              "    .dataframe tbody tr th:only-of-type {\n",
              "        vertical-align: middle;\n",
              "    }\n",
              "\n",
              "    .dataframe tbody tr th {\n",
              "        vertical-align: top;\n",
              "    }\n",
              "\n",
              "    .dataframe thead th {\n",
              "        text-align: right;\n",
              "    }\n",
              "</style>\n",
              "<table border=\"1\" class=\"dataframe\">\n",
              "  <thead>\n",
              "    <tr style=\"text-align: right;\">\n",
              "      <th></th>\n",
              "      <th>accuracy</th>\n",
              "      <th>loss</th>\n",
              "      <th>percentage</th>\n",
              "      <th>test_accuracy</th>\n",
              "      <th>test_loss</th>\n",
              "      <th>val_accuracy</th>\n",
              "      <th>val_loss</th>\n",
              "    </tr>\n",
              "  </thead>\n",
              "  <tbody>\n",
              "    <tr>\n",
              "      <th>0</th>\n",
              "      <td>0.981481</td>\n",
              "      <td>3.143262</td>\n",
              "      <td>0.1</td>\n",
              "      <td>0.8525</td>\n",
              "      <td>69.221054</td>\n",
              "      <td>0.883333</td>\n",
              "      <td>37.213779</td>\n",
              "    </tr>\n",
              "  </tbody>\n",
              "</table>\n",
              "</div>"
            ],
            "text/plain": [
              "   accuracy      loss  percentage  ...  test_loss  val_accuracy   val_loss\n",
              "0  0.981481  3.143262         0.1  ...  69.221054      0.883333  37.213779\n",
              "\n",
              "[1 rows x 7 columns]"
            ]
          },
          "metadata": {
            "tags": []
          }
        },
        {
          "output_type": "stream",
          "text": [
            "0    0.128981\n",
            "dtype: float64\n"
          ],
          "name": "stdout"
        }
      ]
    },
    {
      "cell_type": "code",
      "metadata": {
        "id": "kfMP8WRIf9In",
        "colab_type": "code",
        "colab": {}
      },
      "source": [
        ""
      ],
      "execution_count": null,
      "outputs": []
    }
  ]
}