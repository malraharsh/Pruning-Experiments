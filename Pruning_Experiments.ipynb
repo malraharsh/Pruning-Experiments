{
  "nbformat": 4,
  "nbformat_minor": 0,
  "metadata": {
    "accelerator": "GPU",
    "colab": {
      "name": "Pruning Experiments",
      "provenance": [],
      "collapsed_sections": [],
      "include_colab_link": true
    },
    "kernelspec": {
      "display_name": "Python 3",
      "name": "python3"
    }
  },
  "cells": [
    {
      "cell_type": "markdown",
      "metadata": {
        "id": "view-in-github",
        "colab_type": "text"
      },
      "source": [
        "<a href=\"https://colab.research.google.com/github/malraharsh/Pruning-Experiments/blob/master/Pruning_Experiments.ipynb\" target=\"_parent\"><img src=\"https://colab.research.google.com/assets/colab-badge.svg\" alt=\"Open In Colab\"/></a>"
      ]
    },
    {
      "cell_type": "code",
      "metadata": {
        "colab_type": "code",
        "id": "zN4yVFK5-0Bf",
        "colab": {}
      },
      "source": [
        "! pip install -q tensorflow-model-optimization"
      ],
      "execution_count": null,
      "outputs": []
    },
    {
      "cell_type": "code",
      "metadata": {
        "colab_type": "code",
        "id": "yJwIonXEVJo6",
        "colab": {}
      },
      "source": [
        "import tempfile\n",
        "import os\n",
        "\n",
        "import tensorflow as tf\n",
        "import numpy as np\n",
        "\n",
        "from sklearn.model_selection import train_test_split\n",
        "import pandas as pd\n",
        "\n",
        "from tensorflow import keras\n",
        "\n",
        "%load_ext tensorboard\n",
        "\n",
        "os.mkdir('log')"
      ],
      "execution_count": null,
      "outputs": []
    },
    {
      "cell_type": "code",
      "metadata": {
        "id": "Cyz7BwCxbzCI",
        "colab_type": "code",
        "colab": {}
      },
      "source": [
        "SHOW = False"
      ],
      "execution_count": 3,
      "outputs": []
    },
    {
      "cell_type": "code",
      "metadata": {
        "colab_type": "code",
        "id": "pbY-KGMPvbW9",
        "colab": {}
      },
      "source": [
        "# Load MNIST dataset\n",
        "mnist = keras.datasets.mnist\n",
        "(Train_images, Train_labels), (Test_images, Test_labels) = mnist.load_data()\n",
        "\n",
        "# pct_data = 0.1\n",
        "# top = int(np.ceil(Train_images.shape[0] * pct_data))\n",
        "\n",
        "# (train_images, train_labels), (test_images, test_labels) = (Train_images[:top], Train_labels[:top]), (Test_images[:top], Test_labels[:top])\n",
        "# print(top)"
      ],
      "execution_count": null,
      "outputs": []
    },
    {
      "cell_type": "code",
      "metadata": {
        "id": "Wsf6QDBAAIa2",
        "colab_type": "code",
        "colab": {}
      },
      "source": [
        "train_images = train_labels = test_images = test_labels = None\n",
        "\n",
        "def change_pct_data(pct_data):    \n",
        "    global train_images, train_labels, test_images, test_labels    \n",
        "    top = int(np.ceil(Train_images.shape[0] * pct_data))\n",
        "    (train_images, train_labels), (test_images, test_labels) = (Train_images[:top], Train_labels[:top]), (Test_images[:top], Test_labels[:top])\n",
        "    print(f\"No of data - {top}\")"
      ],
      "execution_count": 17,
      "outputs": []
    },
    {
      "cell_type": "code",
      "metadata": {
        "id": "lB25l8eRC6oH",
        "colab_type": "code",
        "colab": {}
      },
      "source": [
        "def train(train_images, train_labels, test_images, test_labels):\n",
        "\n",
        "    # Normalize the input image so that each pixel value is between 0 to 1.\n",
        "    train_images = train_images.copy() / 255.0\n",
        "    test_images = test_images.copy() / 255.0\n",
        "\n",
        "    # Define the model architecture.\n",
        "    model = keras.Sequential([\n",
        "    keras.layers.InputLayer(input_shape=(28, 28)),\n",
        "    keras.layers.Reshape(target_shape=(28, 28, 1)),\n",
        "    keras.layers.Conv2D(filters=12, kernel_size=(3, 3), activation='relu'),\n",
        "    keras.layers.MaxPooling2D(pool_size=(2, 2)),\n",
        "    keras.layers.Flatten(),\n",
        "    keras.layers.Dense(10)\n",
        "    ])\n",
        "\n",
        "    # Train the digit classification model\n",
        "    model.compile(optimizer='adam',\n",
        "                loss=tf.keras.losses.SparseCategoricalCrossentropy(from_logits=True),\n",
        "                metrics=['accuracy'])\n",
        "\n",
        "    history = model.fit(\n",
        "    train_images,\n",
        "    train_labels,\n",
        "    epochs=1,\n",
        "    validation_split=0.1,\n",
        "    )\n",
        "    if SHOW:\n",
        "        _, baseline_test_accuracy = model.evaluate(\n",
        "        test_images, test_labels, verbose=0)\n",
        "\n",
        "        _, baseline_train_accuracy = model.evaluate(\n",
        "        train_images, train_labels, verbose=0)\n",
        "\n",
        "        print('Baseline train accuracy:', baseline_train_accuracy*100)\n",
        "\n",
        "        print('Baseline test accuracy:', baseline_test_accuracy*100)\n",
        "\n",
        "        print('Baseline difference:', (baseline_train_accuracy - baseline_test_accuracy)*100)\n",
        "\n",
        "    return model, history\n",
        "    \n",
        "\n",
        "def prune(train_images, train_labels, model):\n",
        "\n",
        "    # Compute end step to finish pruning after 2 epochs.\n",
        "    batch_size = 128\n",
        "    epochs = 1\n",
        "    validation_split = 0.1 # 10% of training set will be used for validation set. \n",
        "\n",
        "    num_images = train_images.shape[0] * (1 - validation_split)\n",
        "    end_step = np.ceil(num_images / batch_size).astype(np.int32) * epochs\n",
        "\n",
        "    # Define model for pruning.\n",
        "    pruning_params = {\n",
        "          'pruning_schedule': tfmot.sparsity.keras.PolynomialDecay(initial_sparsity=0.50,\n",
        "                                                                   final_sparsity=0.80,\n",
        "                                                                   begin_step=0,\n",
        "                                                                   end_step=end_step)\n",
        "    }\n",
        "\n",
        "    model_for_pruning = prune_low_magnitude(model, **pruning_params)\n",
        "\n",
        "    # `prune_low_magnitude` requires a recompile.\n",
        "    model_for_pruning.compile(optimizer='adam',\n",
        "                  loss=tf.keras.losses.SparseCategoricalCrossentropy(from_logits=True),\n",
        "                  metrics=['accuracy'])\n",
        "\n",
        "    model_for_pruning.summary()\n",
        "\n",
        "    callbacks = [\n",
        "      tfmot.sparsity.keras.UpdatePruningStep(),\n",
        "      tfmot.sparsity.keras.PruningSummaries(log_dir=logdir),\n",
        "    ]\n",
        "\n",
        "    model_for_pruning.fit(train_images, train_labels,\n",
        "                      batch_size=batch_size, epochs=epochs, validation_split=validation_split,\n",
        "                      callbacks=callbacks)\n",
        "    \n",
        "    _, model_for_pruning_accuracy = model_for_pruning.evaluate(\n",
        "   test_images, test_labels, verbose=0)\n",
        "\n",
        "    print()\n",
        "    print('Baseline test accuracy:', baseline_model_accuracy) \n",
        "    print('Pruned test accuracy:', model_for_pruning_accuracy)"
      ],
      "execution_count": null,
      "outputs": []
    },
    {
      "cell_type": "code",
      "metadata": {
        "id": "AIyrGM-rBkkn",
        "colab_type": "code",
        "colab": {}
      },
      "source": [
        "def do(test_pct):\n",
        "    train_x, val_x, train_y, val_y = train_test_split(train_images, train_labels, test_size=test_pct, stratify=train_labels)\n",
        "    model, history = train(train_x, train_y, val_x, val_y)\n",
        "    return model, history"
      ],
      "execution_count": null,
      "outputs": []
    },
    {
      "cell_type": "code",
      "metadata": {
        "id": "oP8Tm4XD-E7M",
        "colab_type": "code",
        "colab": {}
      },
      "source": [
        "path_log = 'log/'"
      ],
      "execution_count": 20,
      "outputs": []
    },
    {
      "cell_type": "code",
      "metadata": {
        "id": "6RtTs_t9Bkfd",
        "colab_type": "code",
        "colab": {}
      },
      "source": [
        "def add_info(dic, pct, info):\n",
        "    dic = {k:v[-1] for k, v in dic.items()}\n",
        "    dic['percentage'] = pct\n",
        "    return info.append(dic, ignore_index=True)   \n",
        "\n",
        "def full_pct_data(pct_data): #pct of full data\n",
        "    change_pct_data(pct_data) \n",
        "    df_info = pd.DataFrame()\n",
        "\n",
        "    for p in range(10, 99, 20):\n",
        "        print(f'\\n Percentage is {p} \\n')\n",
        "\n",
        "        test_p = 1 - p/100\n",
        "        _, history = do(test_p)\n",
        "\n",
        "        info = history.history\n",
        "        df_info = add_info(info, 1 - test_p, df_info)\n",
        "\n",
        "    df_info.to_csv(f'log/info-{pct_data*100}%.csv')\n",
        "    df_info.plot.scatter(x='percentage', y='accuracy')\n",
        "    # return df_info    "
      ],
      "execution_count": null,
      "outputs": []
    },
    {
      "cell_type": "code",
      "metadata": {
        "id": "p-sgsqvSZjIz",
        "colab_type": "code",
        "colab": {
          "base_uri": "https://localhost:8080/",
          "height": 692
        },
        "outputId": "9583b4a2-86a3-46f1-f7b7-6fef85ca6609"
      },
      "source": [
        "full_pct_data(0.1)"
      ],
      "execution_count": 27,
      "outputs": [
        {
          "output_type": "stream",
          "text": [
            "No of data - 6000\n",
            "\n",
            " Percentage is 10 \n",
            "\n",
            "17/17 [==============================] - 0s 11ms/step - loss: 2.0273 - accuracy: 0.4167 - val_loss: 1.6819 - val_accuracy: 0.6667\n",
            "\n",
            " Percentage is 30 \n",
            "\n",
            "51/51 [==============================] - 0s 6ms/step - loss: 1.5861 - accuracy: 0.6099 - val_loss: 0.9306 - val_accuracy: 0.7333\n",
            "\n",
            " Percentage is 50 \n",
            "\n",
            "85/85 [==============================] - 0s 5ms/step - loss: 1.2924 - accuracy: 0.6930 - val_loss: 0.4958 - val_accuracy: 0.8700\n",
            "\n",
            " Percentage is 70 \n",
            "\n",
            "119/119 [==============================] - 1s 5ms/step - loss: 1.0008 - accuracy: 0.7502 - val_loss: 0.4839 - val_accuracy: 0.8571\n",
            "\n",
            " Percentage is 90 \n",
            "\n",
            "152/152 [==============================] - 1s 4ms/step - loss: 0.8674 - accuracy: 0.7735 - val_loss: 0.3640 - val_accuracy: 0.8981\n"
          ],
          "name": "stdout"
        },
        {
          "output_type": "display_data",
          "data": {
            "image/png": "[encoded data removed]",
            "text/plain": [
              "<Figure size 432x288 with 1 Axes>"
            ]
          },
          "metadata": {
            "tags": [],
            "needs_background": "light"
          }
        }
      ]
    },
    {
      "cell_type": "code",
      "metadata": {
        "id": "VEAsW4mxZyQv",
        "colab_type": "code",
        "colab": {
          "base_uri": "https://localhost:8080/",
          "height": 692
        },
        "outputId": "bb751a87-3d36-4daf-93b3-85b49881c94d"
      },
      "source": [
        "full_pct_data(0.2)"
      ],
      "execution_count": 28,
      "outputs": [
        {
          "output_type": "stream",
          "text": [
            "No of data - 12000\n",
            "\n",
            " Percentage is 10 \n",
            "\n",
            "34/34 [==============================] - 0s 8ms/step - loss: 1.8347 - accuracy: 0.5500 - val_loss: 1.2840 - val_accuracy: 0.7833\n",
            "\n",
            " Percentage is 30 \n",
            "\n",
            "102/102 [==============================] - 1s 7ms/step - loss: 1.1397 - accuracy: 0.7167 - val_loss: 0.4440 - val_accuracy: 0.8861\n",
            "\n",
            " Percentage is 50 \n",
            "\n",
            "169/169 [==============================] - 1s 4ms/step - loss: 0.8307 - accuracy: 0.7856 - val_loss: 0.3844 - val_accuracy: 0.8917\n",
            "\n",
            " Percentage is 70 \n",
            "\n",
            "237/237 [==============================] - 1s 4ms/step - loss: 0.7160 - accuracy: 0.8078 - val_loss: 0.3301 - val_accuracy: 0.8952\n",
            "\n",
            " Percentage is 90 \n",
            "\n",
            "304/304 [==============================] - 1s 4ms/step - loss: 0.6045 - accuracy: 0.8323 - val_loss: 0.3661 - val_accuracy: 0.8880\n"
          ],
          "name": "stdout"
        },
        {
          "output_type": "display_data",
          "data": {
            "image/png": "[encoded data removed]",
            "text/plain": [
              "<Figure size 432x288 with 1 Axes>"
            ]
          },
          "metadata": {
            "tags": [],
            "needs_background": "light"
          }
        }
      ]
    },
    {
      "cell_type": "code",
      "metadata": {
        "id": "tHEsYjAADIkJ",
        "colab_type": "code",
        "colab": {
          "base_uri": "https://localhost:8080/",
          "height": 692
        },
        "outputId": "781aaf81-ea5d-42a7-84d3-bf5344936c7c"
      },
      "source": [
        "full_pct_data(0.5)"
      ],
      "execution_count": 29,
      "outputs": [
        {
          "output_type": "stream",
          "text": [
            "No of data - 30000\n",
            "\n",
            " Percentage is 10 \n",
            "\n",
            "85/85 [==============================] - 0s 5ms/step - loss: 1.3450 - accuracy: 0.6796 - val_loss: 0.6018 - val_accuracy: 0.8700\n",
            "\n",
            " Percentage is 30 \n",
            "\n",
            "254/254 [==============================] - 1s 4ms/step - loss: 0.6621 - accuracy: 0.8172 - val_loss: 0.3050 - val_accuracy: 0.9156\n",
            "\n",
            " Percentage is 50 \n",
            "\n",
            "422/422 [==============================] - 2s 4ms/step - loss: 0.5421 - accuracy: 0.8522 - val_loss: 0.2979 - val_accuracy: 0.9127\n",
            "\n",
            " Percentage is 70 \n",
            "\n",
            "591/591 [==============================] - 2s 4ms/step - loss: 0.4914 - accuracy: 0.8612 - val_loss: 0.3030 - val_accuracy: 0.9176\n",
            "\n",
            " Percentage is 90 \n",
            "\n",
            "760/760 [==============================] - 3s 4ms/step - loss: 0.4458 - accuracy: 0.8748 - val_loss: 0.3080 - val_accuracy: 0.9078\n"
          ],
          "name": "stdout"
        },
        {
          "output_type": "display_data",
          "data": {
            "image/png": "[encoded data removed]",
            "text/plain": [
              "<Figure size 432x288 with 1 Axes>"
            ]
          },
          "metadata": {
            "tags": [],
            "needs_background": "light"
          }
        }
      ]
    },
    {
      "cell_type": "code",
      "metadata": {
        "id": "vaVhOz27DJit",
        "colab_type": "code",
        "colab": {
          "base_uri": "https://localhost:8080/",
          "height": 692
        },
        "outputId": "4e963ad6-eed8-4d17-e585-500756b4a389"
      },
      "source": [
        "full_pct_data(0.7)"
      ],
      "execution_count": 30,
      "outputs": [
        {
          "output_type": "stream",
          "text": [
            "No of data - 42000\n",
            "\n",
            " Percentage is 10 \n",
            "\n",
            "119/119 [==============================] - 1s 5ms/step - loss: 1.0653 - accuracy: 0.7225 - val_loss: 0.4619 - val_accuracy: 0.8619\n",
            "\n",
            " Percentage is 30 \n",
            "\n",
            "355/355 [==============================] - 2s 5ms/step - loss: 0.6162 - accuracy: 0.8362 - val_loss: 0.2637 - val_accuracy: 0.9238\n",
            "\n",
            " Percentage is 50 \n",
            "\n",
            "591/591 [==============================] - 2s 4ms/step - loss: 0.4811 - accuracy: 0.8626 - val_loss: 0.2726 - val_accuracy: 0.9186\n",
            "\n",
            " Percentage is 70 \n",
            "\n",
            "827/827 [==============================] - 3s 4ms/step - loss: 0.4270 - accuracy: 0.8812 - val_loss: 0.2472 - val_accuracy: 0.9259\n",
            "\n",
            " Percentage is 90 \n",
            "\n",
            "1064/1064 [==============================] - 4s 4ms/step - loss: 0.3894 - accuracy: 0.8914 - val_loss: 0.1978 - val_accuracy: 0.9418\n"
          ],
          "name": "stdout"
        },
        {
          "output_type": "display_data",
          "data": {
            "image/png": "[encoded data removed]",
            "text/plain": [
              "<Figure size 432x288 with 1 Axes>"
            ]
          },
          "metadata": {
            "tags": [],
            "needs_background": "light"
          }
        }
      ]
    },
    {
      "cell_type": "code",
      "metadata": {
        "id": "JuA3dOuvDKtW",
        "colab_type": "code",
        "colab": {
          "base_uri": "https://localhost:8080/",
          "height": 696
        },
        "outputId": "b633959f-6902-4ce1-e0f9-b954f7ce19b1"
      },
      "source": [
        "full_pct_data(0.9)"
      ],
      "execution_count": 31,
      "outputs": [
        {
          "output_type": "stream",
          "text": [
            "No of data - 54000\n",
            "\n",
            " Percentage is 10 \n",
            "\n",
            "152/152 [==============================] - 1s 5ms/step - loss: 0.9672 - accuracy: 0.7492 - val_loss: 0.4946 - val_accuracy: 0.8611\n",
            "\n",
            " Percentage is 30 \n",
            "\n",
            "456/456 [==============================] - 2s 4ms/step - loss: 0.5288 - accuracy: 0.8537 - val_loss: 0.3125 - val_accuracy: 0.9142\n",
            "\n",
            " Percentage is 50 \n",
            "\n",
            "760/760 [==============================] - 3s 4ms/step - loss: 0.4353 - accuracy: 0.8741 - val_loss: 0.2556 - val_accuracy: 0.9311\n",
            "\n",
            " Percentage is 70 \n",
            "\n",
            "1064/1064 [==============================] - 4s 4ms/step - loss: 0.3671 - accuracy: 0.8956 - val_loss: 0.2187 - val_accuracy: 0.9317\n",
            "\n",
            " Percentage is 90 \n",
            "\n",
            "1367/1367 [==============================] - 5s 4ms/step - loss: 0.3165 - accuracy: 0.9121 - val_loss: 0.1554 - val_accuracy: 0.9586\n"
          ],
          "name": "stdout"
        },
        {
          "output_type": "display_data",
          "data": {
            "image/png": "[encoded data removed]",
            "text/plain": [
              "<Figure size 432x288 with 1 Axes>"
            ]
          },
          "metadata": {
            "tags": [],
            "needs_background": "light"
          }
        }
      ]
    },
    {
      "cell_type": "code",
      "metadata": {
        "id": "fkhYqOuiDLs3",
        "colab_type": "code",
        "colab": {
          "base_uri": "https://localhost:8080/",
          "height": 694
        },
        "outputId": "b7800dff-bccb-4e91-dad7-322173c7f4f3"
      },
      "source": [
        "full_pct_data(1.0)"
      ],
      "execution_count": 32,
      "outputs": [
        {
          "output_type": "stream",
          "text": [
            "No of data - 60000\n",
            "\n",
            " Percentage is 10 \n",
            "\n",
            "169/169 [==============================] - 1s 4ms/step - loss: 0.8846 - accuracy: 0.7724 - val_loss: 0.3900 - val_accuracy: 0.8883\n",
            "\n",
            " Percentage is 30 \n",
            "\n",
            "507/507 [==============================] - 2s 4ms/step - loss: 0.5059 - accuracy: 0.8569 - val_loss: 0.2748 - val_accuracy: 0.9278\n",
            "\n",
            " Percentage is 50 \n",
            "\n",
            "844/844 [==============================] - 3s 4ms/step - loss: 0.4166 - accuracy: 0.8844 - val_loss: 0.2414 - val_accuracy: 0.9327\n",
            "\n",
            " Percentage is 70 \n",
            "\n",
            "1182/1182 [==============================] - 4s 4ms/step - loss: 0.3521 - accuracy: 0.8984 - val_loss: 0.2292 - val_accuracy: 0.9326\n",
            "\n",
            " Percentage is 90 \n",
            "\n",
            "1519/1519 [==============================] - 6s 4ms/step - loss: 0.3101 - accuracy: 0.9145 - val_loss: 0.1690 - val_accuracy: 0.9487\n"
          ],
          "name": "stdout"
        },
        {
          "output_type": "display_data",
          "data": {
            "image/png": "[encoded data removed]",
            "text/plain": [
              "<Figure size 432x288 with 1 Axes>"
            ]
          },
          "metadata": {
            "tags": [],
            "needs_background": "light"
          }
        }
      ]
    },
    {
      "cell_type": "code",
      "metadata": {
        "id": "DHk9KHa6DNeB",
        "colab_type": "code",
        "colab": {}
      },
      "source": [
        ""
      ],
      "execution_count": null,
      "outputs": []
    }
  ]
}